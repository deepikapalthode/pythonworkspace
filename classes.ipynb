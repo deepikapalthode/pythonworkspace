{
 "cells": [
  {
   "cell_type": "code",
   "execution_count": 41,
   "id": "6c799875",
   "metadata": {},
   "outputs": [
    {
     "name": "stdout",
     "output_type": "stream",
     "text": [
      "deleted..object\n",
      "remaining objects:  1\n",
      "deleted..object\n",
      "0 total objects left\n"
     ]
    }
   ],
   "source": [
    "class Person:\n",
    "    count = 0\n",
    "    def __init__(self, name ,DOB, address):\n",
    "        self.name = name\n",
    "        self.DOB = DOB\n",
    "        self.address = address\n",
    "        Person.count +=1\n",
    "    def getName(self):\n",
    "        return self.name\n",
    "    def getDOB(self):\n",
    "        return self.DOB\n",
    "    def getAddress(self):\n",
    "        return self.address\n",
    "    def setName(self,name):\n",
    "        self.name = name\n",
    "    def setDOB(self,DOB):\n",
    "        self.DOB = DOB\n",
    "    def setAddress(self,address):\n",
    "        self.address = address\n",
    "    def getCount(self):\n",
    "        return Person.count\n",
    "    def __str__(self):\n",
    "        return \"name: \"+self.name + \"\\nDOB: \"+self.DOB + \"\\nAddress: \"+self.address\n",
    "    def __del__(self):\n",
    "        print(\"deleted..object\")\n",
    "        Person.count-=1\n",
    "        \n",
    "def main():\n",
    "    p1 = Person(\"Siddhan\",\"19thFeb2015\",\"Hyderabad\")\n",
    "   # print(p1.__str__())\n",
    "   # p1.setName(\"eesha\")\n",
    "   # print(p1)\n",
    "    p2 = Person(\"Deepika\",\"21May1980\",\"Kolkatta\")\n",
    "    #print(p2)\n",
    "   # print(p2.__str__())\n",
    "    #print(p1)\n",
    "    #p3= p1\n",
    "    del p1\n",
    "    #print(p3)\n",
    "    print(\"remaining objects: \",Person.count)\n",
    "\n",
    "\n",
    "if __name__==\"__main__\":\n",
    "    main()\n",
    "\n",
    "print(Person.count , \"total objects left\")    "
   ]
  },
  {
   "cell_type": "code",
   "execution_count": 13,
   "id": "341f66f3",
   "metadata": {},
   "outputs": [
    {
     "data": {
      "text/plain": [
       "True"
      ]
     },
     "execution_count": 13,
     "metadata": {},
     "output_type": "execute_result"
    }
   ],
   "source": [
    "hasattr(Person,\"__str__\")"
   ]
  },
  {
   "cell_type": "code",
   "execution_count": 14,
   "id": "0f9bbafd",
   "metadata": {},
   "outputs": [
    {
     "data": {
      "text/plain": [
       "True"
      ]
     },
     "execution_count": 14,
     "metadata": {},
     "output_type": "execute_result"
    }
   ],
   "source": [
    "hasattr(None,\"__str__\")"
   ]
  },
  {
   "cell_type": "code",
   "execution_count": 15,
   "id": "11bade7a",
   "metadata": {},
   "outputs": [
    {
     "data": {
      "text/plain": [
       "'6'"
      ]
     },
     "execution_count": 15,
     "metadata": {},
     "output_type": "execute_result"
    }
   ],
   "source": [
    "int.__str__(6)"
   ]
  },
  {
   "cell_type": "code",
   "execution_count": 16,
   "id": "4fdc2ead",
   "metadata": {},
   "outputs": [
    {
     "ename": "NameError",
     "evalue": "name 'p2' is not defined",
     "output_type": "error",
     "traceback": [
      "\u001b[0;31m---------------------------------------------------------------------------\u001b[0m",
      "\u001b[0;31mNameError\u001b[0m                                 Traceback (most recent call last)",
      "\u001b[0;32m/tmp/ipykernel_4136/1949242222.py\u001b[0m in \u001b[0;36m<module>\u001b[0;34m\u001b[0m\n\u001b[0;32m----> 1\u001b[0;31m \u001b[0mp2\u001b[0m\u001b[0;34m.\u001b[0m\u001b[0m__str__\u001b[0m\u001b[0;34m(\u001b[0m\u001b[0;34m)\u001b[0m\u001b[0;34m\u001b[0m\u001b[0;34m\u001b[0m\u001b[0m\n\u001b[0m",
      "\u001b[0;31mNameError\u001b[0m: name 'p2' is not defined"
     ]
    }
   ],
   "source": [
    "p2.__str__()"
   ]
  },
  {
   "cell_type": "code",
   "execution_count": 42,
   "id": "2c20cec8",
   "metadata": {},
   "outputs": [
    {
     "data": {
      "text/plain": [
       "True"
      ]
     },
     "execution_count": 42,
     "metadata": {},
     "output_type": "execute_result"
    }
   ],
   "source": [
    "hasattr(int,\"__add__\")"
   ]
  },
  {
   "cell_type": "code",
   "execution_count": 43,
   "id": "a2f736ef",
   "metadata": {},
   "outputs": [
    {
     "data": {
      "text/plain": [
       "True"
      ]
     },
     "execution_count": 43,
     "metadata": {},
     "output_type": "execute_result"
    }
   ],
   "source": [
    "hasattr(list,\"__add__\")"
   ]
  },
  {
   "cell_type": "code",
   "execution_count": 44,
   "id": "070d8e5e",
   "metadata": {},
   "outputs": [
    {
     "data": {
      "text/plain": [
       "True"
      ]
     },
     "execution_count": 44,
     "metadata": {},
     "output_type": "execute_result"
    }
   ],
   "source": [
    "hasattr(tuple,\"__add__\")"
   ]
  },
  {
   "cell_type": "code",
   "execution_count": 46,
   "id": "061e62e5",
   "metadata": {},
   "outputs": [
    {
     "data": {
      "text/plain": [
       "12"
      ]
     },
     "execution_count": 46,
     "metadata": {},
     "output_type": "execute_result"
    }
   ],
   "source": [
    "int.__add__(5,7)"
   ]
  },
  {
   "cell_type": "code",
   "execution_count": 48,
   "id": "92a47865",
   "metadata": {},
   "outputs": [
    {
     "data": {
      "text/plain": [
       "list"
      ]
     },
     "execution_count": 48,
     "metadata": {},
     "output_type": "execute_result"
    }
   ],
   "source": [
    "type(list.__add__([1,2,3], [10,20,30]))"
   ]
  },
  {
   "cell_type": "code",
   "execution_count": 49,
   "id": "da552341",
   "metadata": {},
   "outputs": [
    {
     "data": {
      "text/plain": [
       "(2, 4, 6, 1, 3, 5)"
      ]
     },
     "execution_count": 49,
     "metadata": {},
     "output_type": "execute_result"
    }
   ],
   "source": [
    "tuple.__add__((2,4,6), (1,3,5))"
   ]
  },
  {
   "cell_type": "code",
   "execution_count": 52,
   "id": "61cfe40a",
   "metadata": {},
   "outputs": [
    {
     "name": "stdout",
     "output_type": "stream",
     "text": [
      "(6, 8)\n"
     ]
    }
   ],
   "source": [
    "class Point:\n",
    "    def __init__(self,x,y):\n",
    "        self.x = x\n",
    "        self.y = y\n",
    "    def __str__(self):\n",
    "        return str((self.x,self.y))\n",
    "    def __add__(self,obj):\n",
    "        x = self.x + obj.x\n",
    "        y = self.y+obj.y\n",
    "        return Point(x,y)\n",
    "def main():\n",
    "    p1 = Point(2,3)\n",
    "    p2 = Point(4,5)\n",
    "    print(p1+p2)\n",
    "\n",
    "if __name__==\"__main__\":\n",
    "    main()\n",
    "        "
   ]
  },
  {
   "cell_type": "code",
   "execution_count": 53,
   "id": "be43b807",
   "metadata": {},
   "outputs": [
    {
     "data": {
      "text/plain": [
       "'2'"
      ]
     },
     "execution_count": 53,
     "metadata": {},
     "output_type": "execute_result"
    }
   ],
   "source": [
    "str(2)"
   ]
  },
  {
   "cell_type": "code",
   "execution_count": 55,
   "id": "02fe18b1",
   "metadata": {},
   "outputs": [
    {
     "data": {
      "text/plain": [
       "'(2, 3)'"
      ]
     },
     "execution_count": 55,
     "metadata": {},
     "output_type": "execute_result"
    }
   ],
   "source": [
    "str((2,3))"
   ]
  },
  {
   "cell_type": "code",
   "execution_count": 1,
   "id": "156a00d3",
   "metadata": {},
   "outputs": [
    {
     "name": "stdout",
     "output_type": "stream",
     "text": [
      "['/home/siddhan/python_deepika', '/usr/lib/python39.zip', '/usr/lib/python3.9', '/usr/lib/python3.9/lib-dynload', '', '/home/siddhan/.local/lib/python3.9/site-packages', '/usr/local/lib/python3.9/dist-packages', '/usr/lib/python3/dist-packages', '/usr/lib/python3.9/dist-packages', '/home/siddhan/.local/lib/python3.9/site-packages/IPython/extensions', '/home/siddhan/.ipython']\n"
     ]
    }
   ],
   "source": [
    "import sys\n",
    "print(sys.path)"
   ]
  },
  {
   "cell_type": "code",
   "execution_count": 2,
   "id": "6c72fa8b",
   "metadata": {},
   "outputs": [
    {
     "name": "stdout",
     "output_type": "stream",
     "text": [
      "['/home/siddhan/python_deepika', '/usr/lib/python39.zip', '/usr/lib/python3.9', '/usr/lib/python3.9/lib-dynload', '', '/home/siddhan/.local/lib/python3.9/site-packages', '/usr/local/lib/python3.9/dist-packages', '/usr/lib/python3/dist-packages', '/usr/lib/python3.9/dist-packages', '/home/siddhan/.local/lib/python3.9/site-packages/IPython/extensions', '/home/siddhan/.ipython', '/home/siddhan/python_deepika']\n"
     ]
    }
   ],
   "source": [
    "import sys \n",
    "# appending a path\n",
    "sys.path.append('/home/siddhan/python_deepika')\n",
    "print(sys.path)"
   ]
  },
  {
   "cell_type": "code",
   "execution_count": null,
   "id": "3e1aa460",
   "metadata": {},
   "outputs": [],
   "source": []
  }
 ],
 "metadata": {
  "kernelspec": {
   "display_name": "Python 3 (ipykernel)",
   "language": "python",
   "name": "python3"
  },
  "language_info": {
   "codemirror_mode": {
    "name": "ipython",
    "version": 3
   },
   "file_extension": ".py",
   "mimetype": "text/x-python",
   "name": "python",
   "nbconvert_exporter": "python",
   "pygments_lexer": "ipython3",
   "version": "3.9.5"
  }
 },
 "nbformat": 4,
 "nbformat_minor": 5
}
