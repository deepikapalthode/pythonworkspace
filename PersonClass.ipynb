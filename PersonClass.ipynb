{
 "cells": [
  {
   "cell_type": "code",
   "execution_count": 1,
   "id": "ae505f66",
   "metadata": {},
   "outputs": [],
   "source": [
    "class Person:\n",
    "    count = 0\n",
    "    def __init__(self, name ,DOB, address):\n",
    "        self.name = name\n",
    "        self.DOB = DOB\n",
    "        self.address = address\n",
    "        Person.count +=1\n",
    "    def getName(self):\n",
    "        return self.name\n",
    "    def getDOB(self):\n",
    "        return self.DOB\n",
    "    def getAddress(self):\n",
    "        return self.address\n",
    "    def setName(self,name):\n",
    "        self.name = name\n",
    "    def setDOB(self,DOB):\n",
    "        self.DOB = DOB\n",
    "    def setAddress(self,address):\n",
    "        self.address = address\n",
    "    def getCount(self):\n",
    "        return Person.count\n",
    "    def __str__(self):\n",
    "        return \"name: \"+self.name + \"\\nDOB: \"+self.DOB + \"\\nAddress: \"+self.address\n",
    "    def __del__(self):\n",
    "        print(\"deleted..object\")\n",
    "        Person.count-=1\n",
    "  "
   ]
  },
  {
   "cell_type": "code",
   "execution_count": null,
   "id": "9fbbe962",
   "metadata": {},
   "outputs": [],
   "source": []
  }
 ],
 "metadata": {
  "kernelspec": {
   "display_name": "Python 3.9 (XPython)",
   "language": "python",
   "name": "xpython"
  },
  "language_info": {
   "file_extension": ".py",
   "mimetype": "text/x-python",
   "name": "python",
   "version": "3.9.7"
  }
 },
 "nbformat": 4,
 "nbformat_minor": 5
}
