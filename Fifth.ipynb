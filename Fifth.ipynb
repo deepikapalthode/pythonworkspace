{
 "cells": [
  {
   "cell_type": "code",
   "execution_count": 1,
   "id": "1d5d22a2",
   "metadata": {},
   "outputs": [
    {
     "data": {
      "text/plain": [
       "'python'"
      ]
     },
     "execution_count": 1,
     "metadata": {},
     "output_type": "execute_result"
    }
   ],
   "source": [
    "import re\n",
    "string1 = \"welcome to python shell\"\n",
    "match=re.search(\"python\",string1)\n",
    "match.group()\n",
    "\n"
   ]
  },
  {
   "cell_type": "code",
   "execution_count": 2,
   "id": "2cc139bb",
   "metadata": {},
   "outputs": [
    {
     "data": {
      "text/plain": [
       "'python'"
      ]
     },
     "execution_count": 2,
     "metadata": {},
     "output_type": "execute_result"
    }
   ],
   "source": [
    "import re\n",
    "string1 = \"welcome to python shell\"\n",
    "match=re.search(\"(p|P)ython\",string1)\n",
    "match.group()"
   ]
  },
  {
   "cell_type": "code",
   "execution_count": 13,
   "id": "807d915f",
   "metadata": {},
   "outputs": [
    {
     "data": {
      "text/plain": [
       "'she'"
      ]
     },
     "execution_count": 13,
     "metadata": {},
     "output_type": "execute_result"
    }
   ],
   "source": [
    "string1=\"welcome to python shell\"\n",
    "match=re.search(\"she?\",string1)\n",
    "match.group()"
   ]
  },
  {
   "cell_type": "code",
   "execution_count": 15,
   "id": "97cf2bf8",
   "metadata": {},
   "outputs": [
    {
     "data": {
      "text/plain": [
       "'shell'"
      ]
     },
     "execution_count": 15,
     "metadata": {},
     "output_type": "execute_result"
    }
   ],
   "source": [
    "str=\"python shell is fun\"\n",
    "match=re.search(\"shel{1,2}\",str)\n",
    "match.group()"
   ]
  },
  {
   "cell_type": "code",
   "execution_count": 17,
   "id": "c67d5fa7",
   "metadata": {},
   "outputs": [
    {
     "name": "stdout",
     "output_type": "stream",
     "text": [
      "len greater than or equal to 5\n"
     ]
    }
   ],
   "source": [
    "str=\"python shell\"\n",
    "if re.search(\".....\",str):\n",
    "    print(\"len greater than or equal to 5\")"
   ]
  },
  {
   "cell_type": "code",
   "execution_count": 28,
   "id": "bb063b15",
   "metadata": {},
   "outputs": [
    {
     "name": "stdout",
     "output_type": "stream",
     "text": [
      "ends with fun\n"
     ]
    }
   ],
   "source": [
    "s=\"python is powerful language and fun\"\n",
    "\n",
    "if re.search(\"fun$\",s):\n",
    "    print(\"ends with fun\")"
   ]
  },
  {
   "cell_type": "code",
   "execution_count": 29,
   "id": "b1a01083",
   "metadata": {},
   "outputs": [
    {
     "name": "stdout",
     "output_type": "stream",
     "text": [
      "1\n"
     ]
    }
   ],
   "source": [
    "if 1:\n",
    "    print(\"1\")"
   ]
  },
  {
   "cell_type": "code",
   "execution_count": 32,
   "id": "52cd4ec7",
   "metadata": {},
   "outputs": [
    {
     "data": {
      "text/plain": [
       "'12345'"
      ]
     },
     "execution_count": 32,
     "metadata": {},
     "output_type": "execute_result"
    }
   ],
   "source": [
    "s=\"roll number 12345\"\n",
    "m=re.search(\"\\d{5}\",s)\n",
    "m.group()"
   ]
  },
  {
   "cell_type": "code",
   "execution_count": null,
   "id": "4da49937",
   "metadata": {},
   "outputs": [],
   "source": []
  }
 ],
 "metadata": {
  "kernelspec": {
   "display_name": "Python 3 (ipykernel)",
   "language": "python",
   "name": "python3"
  },
  "language_info": {
   "codemirror_mode": {
    "name": "ipython",
    "version": 3
   },
   "file_extension": ".py",
   "mimetype": "text/x-python",
   "name": "python",
   "nbconvert_exporter": "python",
   "pygments_lexer": "ipython3",
   "version": "3.9.5"
  }
 },
 "nbformat": 4,
 "nbformat_minor": 5
}
