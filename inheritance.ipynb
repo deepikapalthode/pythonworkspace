{
 "cells": [
  {
   "cell_type": "code",
   "execution_count": 23,
   "id": "fe767c29",
   "metadata": {},
   "outputs": [
    {
     "name": "stdout",
     "output_type": "stream",
     "text": [
      "name: johnith\n",
      "DOB: 22-may-1980\n",
      "Address: jacksonville\n",
      " DOJ:15-jan-2019\n",
      "emp ID:1001\n",
      "empCnt:1\n",
      "Emp\n",
      "True\n",
      "deleted..object\n"
     ]
    }
   ],
   "source": [
    "import import_ipynb\n",
    "from PersonClass import Person\n",
    "class Emp(Person):\n",
    "    empID=1000\n",
    "    empCnt = 0\n",
    "    def __init__(self,name ,DOB, address,DOJ):\n",
    "        Person.__init__(self,name ,DOB, address)\n",
    "        self.DOJ = DOJ\n",
    "        self.empID = Emp.empID\n",
    "        Emp.empID+=1\n",
    "        Emp.empCnt+=1\n",
    "    def getDOJ(self):\n",
    "        return self.DOJ\n",
    "    def __str__(self):\n",
    "        return Person.__str__(self)+\"\\n DOJ:\"+str(self.getDOJ())+\"\\n\"+\"emp ID:\"+str(Emp.empID)+\"\\n\"+\"empCnt:\"+str(Emp.empCnt)\n",
    "\n",
    "def main():\n",
    "    emp1 = Emp(\"johnith\",\"22-may-1980\",\"jacksonville\",\"15-jan-2019\")\n",
    "    print(emp1)\n",
    "    print(emp1.__class__.__name__)\n",
    "    print(isinstance(emp1,Person))\n",
    "\n",
    "if __name__==\"__main__\":\n",
    "    main()\n",
    "\n",
    "    \n",
    "        "
   ]
  },
  {
   "cell_type": "code",
   "execution_count": 24,
   "id": "26d574b5",
   "metadata": {},
   "outputs": [
    {
     "data": {
      "text/plain": [
       "(PersonClass.Person,)"
      ]
     },
     "execution_count": 24,
     "metadata": {},
     "output_type": "execute_result"
    }
   ],
   "source": [
    "Emp.__bases__"
   ]
  },
  {
   "cell_type": "code",
   "execution_count": 16,
   "id": "18cafb6d",
   "metadata": {},
   "outputs": [
    {
     "name": "stdout",
     "output_type": "stream",
     "text": [
      "deleted..object\n",
      "deleted..object\n",
      "deleted..object\n",
      "deleted..object\n",
      "deleted..object\n",
      "deleted..object\n",
      "deleted..object\n",
      "deleted..object\n"
     ]
    },
    {
     "ename": "NameError",
     "evalue": "name 'emp1' is not defined",
     "output_type": "error",
     "traceback": [
      "\u001b[0;31m---------------------------------------------------------------------------\u001b[0m",
      "\u001b[0;31mNameError\u001b[0m                                 Traceback (most recent call last)",
      "\u001b[0;32m/tmp/ipykernel_5509/2366955818.py\u001b[0m in \u001b[0;36m<module>\u001b[0;34m\u001b[0m\n\u001b[0;32m----> 1\u001b[0;31m \u001b[0memp1\u001b[0m\u001b[0;34m.\u001b[0m\u001b[0m__class__\u001b[0m\u001b[0;34m.\u001b[0m\u001b[0m__name__\u001b[0m\u001b[0;34m\u001b[0m\u001b[0;34m\u001b[0m\u001b[0m\n\u001b[0m",
      "\u001b[0;31mNameError\u001b[0m: name 'emp1' is not defined"
     ]
    }
   ],
   "source": [
    "emp1.__class__.__name__"
   ]
  },
  {
   "cell_type": "code",
   "execution_count": 1,
   "id": "34552a92",
   "metadata": {},
   "outputs": [
    {
     "name": "stdout",
     "output_type": "stream",
     "text": [
      "In Class4\n",
      "In Class2\n",
      "In Class3\n",
      "In Class1\n"
     ]
    }
   ],
   "source": [
    "# Python program to demonstrate\n",
    "# super()\n",
    "\n",
    "class Class1:\n",
    "\tdef m(self):\n",
    "\t\tprint(\"In Class1\")\n",
    "\n",
    "class Class2(Class1):\n",
    "\tdef m(self):\n",
    "\t\tprint(\"In Class2\")\n",
    "\t\tsuper().m()\n",
    "\n",
    "class Class3(Class1):\n",
    "\tdef m(self):\n",
    "\t\tprint(\"In Class3\")\n",
    "\t\tsuper().m()\n",
    "\n",
    "class Class4(Class2, Class3):\n",
    "\tdef m(self):\n",
    "\t\tprint(\"In Class4\")\n",
    "\t\tsuper().m()\n",
    "\t\n",
    "obj = Class4()\n",
    "obj.m()\n"
   ]
  },
  {
   "cell_type": "code",
   "execution_count": 4,
   "id": "51b5f384",
   "metadata": {},
   "outputs": [
    {
     "name": "stdout",
     "output_type": "stream",
     "text": [
      "Name: Jake, Pay: 250000, Exp: 5\n"
     ]
    }
   ],
   "source": [
    "# Parent class 1\n",
    "class TeamMember:                   \n",
    "   def __init__(self, name, uid): \n",
    "      self.name = name \n",
    "      self.uid = uid \n",
    "  \n",
    "# Parent class 2\n",
    "class Worker:                 \n",
    "   def __init__(self, pay, jobtitle): \n",
    "      self.pay = pay \n",
    "      self.jobtitle = jobtitle \n",
    "  \n",
    "# Deriving a child class from the two parent classes\n",
    "class TeamLeader(TeamMember, Worker):         \n",
    "   def __init__(self, name, uid, pay, jobtitle, exp): \n",
    "      self.exp = exp \n",
    "      TeamMember.__init__(self, name, uid) \n",
    "      Worker.__init__(self, pay, jobtitle)\n",
    "      print(\"Name: {}, Pay: {}, Exp: {}\".format(self.name, self.pay, self.exp))\n",
    "    \n",
    "TL = TeamLeader('Jake', 10001, 250000, 'Scrum Master', 5)\n"
   ]
  },
  {
   "cell_type": "code",
   "execution_count": 5,
   "id": "97604f7e",
   "metadata": {},
   "outputs": [
    {
     "name": "stdout",
     "output_type": "stream",
     "text": [
      "Method of next_child class\n",
      "Method of child class\n",
      "Method of base class\n"
     ]
    }
   ],
   "source": [
    "class base(object): \n",
    "   def base_func(self): \n",
    "      print('Method of base class')\n",
    "class child(base): \n",
    "   def base_func(self): \n",
    "      print('Method of child class')\n",
    "      super(child, self).base_func() \n",
    "class next_child(child): \n",
    "   def base_func(self): \n",
    "      print('Method of next_child class')\n",
    "      super(next_child, self).base_func() \n",
    "\n",
    "obj = next_child() \n",
    "obj.base_func()"
   ]
  },
  {
   "cell_type": "code",
   "execution_count": 11,
   "id": "d9dfc56b",
   "metadata": {},
   "outputs": [
    {
     "name": "stdout",
     "output_type": "stream",
     "text": [
      " Forming class Dev\n",
      "(<class '__main__.Sprint'>, <class '__main__.Dev'>, <class '__main__.QA'>, <class '__main__.Agile'>, <class 'object'>)\n",
      "[<class '__main__.Sprint'>, <class '__main__.Dev'>, <class '__main__.QA'>, <class '__main__.Agile'>, <class 'object'>]\n"
     ]
    }
   ],
   "source": [
    "class Agile: \n",
    "   def create(self): \n",
    "      print(\" Forming class Agile\") \n",
    "class Dev(Agile): \n",
    "   def create(self): \n",
    "      print(\" Forming class Dev\") \n",
    "class QA(Agile): \n",
    "   def create(self): \n",
    "      print(\" Forming class QA\") \n",
    "\n",
    "# Ordering of classes\n",
    "class Sprint(Dev, QA): \n",
    "   pass\n",
    "\n",
    "sprint = Sprint() \n",
    "sprint.create()\n",
    "print(Sprint.__mro__)\n",
    "print(Sprint.mro())"
   ]
  },
  {
   "cell_type": "code",
   "execution_count": 7,
   "id": "e8064ad8",
   "metadata": {},
   "outputs": [
    {
     "name": "stdout",
     "output_type": "stream",
     "text": [
      "Constructing InverterAC\n",
      "(<class '__main__.InverterAC'>, <class '__main__.Appliance'>, <class '__main__.AC'>, <class 'object'>)\n",
      "[<class '__main__.InverterAC'>, <class '__main__.Appliance'>, <class '__main__.AC'>, <class 'object'>]\n"
     ]
    }
   ],
   "source": [
    "class Appliance: \n",
    "   def create(self): \n",
    "      print(\" Creating class Appliance\") \n",
    "\n",
    "class AC: \n",
    "   def create(self): \n",
    "      print(\" Creating class AC\") \n",
    "\n",
    "# Oder of classes\n",
    "class InverterAC(Appliance, AC): \n",
    "   def __init__(self): \n",
    "      print(\"Constructing InverterAC\") \n",
    "\n",
    "appl = InverterAC() \n",
    "\n",
    "# Display the lookup order \n",
    "print(InverterAC.__mro__) \n",
    "print(InverterAC.mro())"
   ]
  },
  {
   "cell_type": "code",
   "execution_count": null,
   "id": "a27f3f25",
   "metadata": {},
   "outputs": [],
   "source": []
  }
 ],
 "metadata": {
  "kernelspec": {
   "display_name": "Python 3 (ipykernel)",
   "language": "python",
   "name": "python3"
  },
  "language_info": {
   "codemirror_mode": {
    "name": "ipython",
    "version": 3
   },
   "file_extension": ".py",
   "mimetype": "text/x-python",
   "name": "python",
   "nbconvert_exporter": "python",
   "pygments_lexer": "ipython3",
   "version": "3.9.5"
  }
 },
 "nbformat": 4,
 "nbformat_minor": 5
}
