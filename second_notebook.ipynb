{
 "cells": [
  {
   "cell_type": "code",
   "execution_count": 1,
   "id": "8702ffba",
   "metadata": {},
   "outputs": [
    {
     "name": "stdout",
     "output_type": "stream",
     "text": [
      "default  area of square is 100\n"
     ]
    }
   ],
   "source": [
    "'''import sys\n",
    "sys.path.append('Documents/python_deepika')'''\n",
    "import areaSquare\n",
    "\n",
    "def main():\n",
    "    print('default  area of square is', areaSquare.areaSquare())\n",
    "\n",
    "    \n",
    "if __name__ == '__main__':\n",
    "    main()"
   ]
  },
  {
   "cell_type": "code",
   "execution_count": 33,
   "id": "46499494",
   "metadata": {},
   "outputs": [
    {
     "name": "stdout",
     "output_type": "stream",
     "text": [
      "a = 7 num = 6\n",
      "function called answer is  42\n"
     ]
    }
   ],
   "source": [
    "def nMultiple(a = 0, num =1):\n",
    "    print(\"a =\",a, \"num =\",num)\n",
    "    return a*num\n",
    "\n",
    "def main():\n",
    "    print(\"function called answer is \", nMultiple(num=6,a=7))\n",
    "    \n",
    "if __name__ == '__main__':\n",
    "    main()"
   ]
  },
  {
   "cell_type": "code",
   "execution_count": 1,
   "id": "f71953cc",
   "metadata": {},
   "outputs": [
    {
     "name": "stdout",
     "output_type": "stream",
     "text": [
      "can't open file\n"
     ]
    }
   ],
   "source": [
    "try:\n",
    "    f = open(\"demo.txt\")\n",
    "    try:\n",
    "        f.write(\"deepika\")\n",
    "    except:\n",
    "        print(\"can't write to file\")\n",
    "    finally:\n",
    "        f.close()\n",
    "except:\n",
    "    print(\"can't open file\")\n"
   ]
  },
  {
   "cell_type": "code",
   "execution_count": 2,
   "id": "9c86100a",
   "metadata": {},
   "outputs": [
    {
     "ename": "TypeError",
     "evalue": "only integers are allowed",
     "output_type": "error",
     "traceback": [
      "\u001b[0;31m---------------------------------------------------------------------------\u001b[0m",
      "\u001b[0;31mTypeError\u001b[0m                                 Traceback (most recent call last)",
      "\u001b[0;32m/tmp/ipykernel_3586/3363728113.py\u001b[0m in \u001b[0;36m<module>\u001b[0;34m\u001b[0m\n\u001b[1;32m      1\u001b[0m \u001b[0mx\u001b[0m \u001b[0;34m=\u001b[0m \u001b[0;34m\"hello\"\u001b[0m\u001b[0;34m\u001b[0m\u001b[0;34m\u001b[0m\u001b[0m\n\u001b[1;32m      2\u001b[0m \u001b[0;32mif\u001b[0m \u001b[0;32mnot\u001b[0m \u001b[0mtype\u001b[0m\u001b[0;34m(\u001b[0m\u001b[0mx\u001b[0m\u001b[0;34m)\u001b[0m \u001b[0;32mis\u001b[0m \u001b[0mint\u001b[0m\u001b[0;34m:\u001b[0m\u001b[0;34m\u001b[0m\u001b[0;34m\u001b[0m\u001b[0m\n\u001b[0;32m----> 3\u001b[0;31m     \u001b[0;32mraise\u001b[0m \u001b[0mTypeError\u001b[0m\u001b[0;34m(\u001b[0m\u001b[0;34m\"only integers are allowed\"\u001b[0m\u001b[0;34m)\u001b[0m\u001b[0;34m\u001b[0m\u001b[0;34m\u001b[0m\u001b[0m\n\u001b[0m",
      "\u001b[0;31mTypeError\u001b[0m: only integers are allowed"
     ]
    }
   ],
   "source": [
    "x = \"hello\"\n",
    "if not type(x) is int:\n",
    "    raise TypeError(\"only integers are allowed\")"
   ]
  },
  {
   "cell_type": "code",
   "execution_count": 3,
   "id": "ff35306e",
   "metadata": {},
   "outputs": [
    {
     "ename": "TypeError",
     "evalue": "only integers are allowed",
     "output_type": "error",
     "traceback": [
      "\u001b[0;31m---------------------------------------------------------------------------\u001b[0m",
      "\u001b[0;31mTypeError\u001b[0m                                 Traceback (most recent call last)",
      "\u001b[0;32m/tmp/ipykernel_3586/2610640574.py\u001b[0m in \u001b[0;36m<module>\u001b[0;34m\u001b[0m\n\u001b[1;32m      1\u001b[0m \u001b[0mx\u001b[0m \u001b[0;34m=\u001b[0m \u001b[0;34m\"deep\"\u001b[0m\u001b[0;34m\u001b[0m\u001b[0;34m\u001b[0m\u001b[0m\n\u001b[1;32m      2\u001b[0m \u001b[0;32mif\u001b[0m \u001b[0;32mnot\u001b[0m \u001b[0mtype\u001b[0m\u001b[0;34m(\u001b[0m\u001b[0mx\u001b[0m\u001b[0;34m)\u001b[0m \u001b[0;32mis\u001b[0m \u001b[0mint\u001b[0m\u001b[0;34m:\u001b[0m\u001b[0;34m\u001b[0m\u001b[0;34m\u001b[0m\u001b[0m\n\u001b[0;32m----> 3\u001b[0;31m     \u001b[0;32mraise\u001b[0m \u001b[0mTypeError\u001b[0m\u001b[0;34m(\u001b[0m\u001b[0;34m\"only integers are allowed\"\u001b[0m\u001b[0;34m)\u001b[0m\u001b[0;34m\u001b[0m\u001b[0;34m\u001b[0m\u001b[0m\n\u001b[0m",
      "\u001b[0;31mTypeError\u001b[0m: only integers are allowed"
     ]
    }
   ],
   "source": [
    "x = \"deep\"\n",
    "if not type(x) is int:\n",
    "    raise TypeError(\"only integers are allowed\")"
   ]
  },
  {
   "cell_type": "code",
   "execution_count": 20,
   "id": "510f08d2",
   "metadata": {},
   "outputs": [
    {
     "data": {
      "text/plain": [
       "frozenset"
      ]
     },
     "execution_count": 20,
     "metadata": {},
     "output_type": "execute_result"
    }
   ],
   "source": [
    "x= frozenset({2, \"joe\", 5, \"kumar\"})\n",
    "type(x)"
   ]
  },
  {
   "cell_type": "code",
   "execution_count": 26,
   "id": "40a9b556",
   "metadata": {},
   "outputs": [
    {
     "data": {
      "text/plain": [
       "frozenset"
      ]
     },
     "execution_count": 26,
     "metadata": {},
     "output_type": "execute_result"
    }
   ],
   "source": [
    "x = frozenset((2, \"hello\", 8.4))\n",
    "type(x)"
   ]
  },
  {
   "cell_type": "code",
   "execution_count": 27,
   "id": "afe3b4b2",
   "metadata": {},
   "outputs": [
    {
     "data": {
      "text/plain": [
       "bytearray(b'\\x00\\x00\\x00')"
      ]
     },
     "execution_count": 27,
     "metadata": {},
     "output_type": "execute_result"
    }
   ],
   "source": [
    "x= bytearray(3)\n",
    "x"
   ]
  },
  {
   "cell_type": "code",
   "execution_count": 29,
   "id": "f91dd2a4",
   "metadata": {},
   "outputs": [
    {
     "data": {
      "text/plain": [
       "bytearray(b'\\x02\\x05\\x06')"
      ]
     },
     "execution_count": 29,
     "metadata": {},
     "output_type": "execute_result"
    }
   ],
   "source": [
    "x = bytearray([2,5,6])\n",
    "\n",
    "x"
   ]
  },
  {
   "cell_type": "code",
   "execution_count": 33,
   "id": "d6c9cde1",
   "metadata": {},
   "outputs": [
    {
     "data": {
      "text/plain": [
       "bytearray(b'hello')"
      ]
     },
     "execution_count": 33,
     "metadata": {},
     "output_type": "execute_result"
    }
   ],
   "source": [
    "x = bytearray(\"hello\",\"utf-8\")\n",
    "x"
   ]
  },
  {
   "cell_type": "code",
   "execution_count": 35,
   "id": "78ddc34f",
   "metadata": {},
   "outputs": [
    {
     "data": {
      "text/plain": [
       "bytearray(b'\\x02\\x03\\x06')"
      ]
     },
     "execution_count": 35,
     "metadata": {},
     "output_type": "execute_result"
    }
   ],
   "source": [
    "l = [2, 3, 6]\n",
    "x = bytearray(l)\n",
    "x"
   ]
  },
  {
   "cell_type": "code",
   "execution_count": 41,
   "id": "ccd84970",
   "metadata": {},
   "outputs": [
    {
     "data": {
      "text/plain": [
       "b'hello'"
      ]
     },
     "execution_count": 41,
     "metadata": {},
     "output_type": "execute_result"
    }
   ],
   "source": [
    "s = bytes(\"hello\",\"utf-8\")\n",
    "s"
   ]
  },
  {
   "cell_type": "code",
   "execution_count": 44,
   "id": "28078c2a",
   "metadata": {},
   "outputs": [
    {
     "name": "stdout",
     "output_type": "stream",
     "text": [
      "b'hi'\n",
      "<class 'bytes'>\n"
     ]
    }
   ],
   "source": [
    "c = bytes(\"hi\", \"utf-8\")\n",
    "print(c)\n",
    "print(type(c))"
   ]
  },
  {
   "cell_type": "code",
   "execution_count": 8,
   "id": "d0ce123b",
   "metadata": {},
   "outputs": [
    {
     "name": "stdin",
     "output_type": "stream",
     "text": [
      "enter 1 for right angled triangle \n",
      "enter 2 for inverted triangle \n",
      " 2\n",
      "enter number of rows 3\n"
     ]
    },
    {
     "name": "stdout",
     "output_type": "stream",
     "text": [
      "*****\n",
      " ***\n",
      "  *\n"
     ]
    }
   ],
   "source": [
    "def rightTriangle(r):\n",
    "    for i in range(1, r+1):\n",
    "        print(\"*\" * i)\n",
    "\n",
    "def invertedTriangle(r):\n",
    "    spaces =0\n",
    "    stars = 2*r-1\n",
    "    for i in range(1, r+1):\n",
    "        print(\" \"*spaces + \"*\" * stars)\n",
    "        stars-=2\n",
    "        spaces+=1\n",
    "        \n",
    "def main():\n",
    "    choice = int(input(\"enter 1 for right angled triangle \\n\"+\"enter 2 for inverted triangle \\n\"))\n",
    "    assert choice == 1 or choice ==2\n",
    "    nrows = int(input(\"enter number of rows\"))\n",
    "    if choice ==1:\n",
    "        rightTriangle(nrows)\n",
    "    else:\n",
    "        invertedTriangle(nrows)\n",
    "if __name__ == \"__main__\":\n",
    "    main()\n"
   ]
  },
  {
   "cell_type": "code",
   "execution_count": 10,
   "id": "7e45df2f",
   "metadata": {},
   "outputs": [
    {
     "name": "stdout",
     "output_type": "stream",
     "text": [
      "    9   18   27"
     ]
    }
   ],
   "source": [
    "for i in range(1,4):\n",
    "    print('{0:5}'.format(i*9), end = \"\")"
   ]
  },
  {
   "cell_type": "code",
   "execution_count": 11,
   "id": "0ba4af35",
   "metadata": {},
   "outputs": [
    {
     "name": "stdout",
     "output_type": "stream",
     "text": [
      "hithere 22\n"
     ]
    }
   ],
   "source": [
    "print(\"hi\"+\"there 22\")"
   ]
  },
  {
   "cell_type": "code",
   "execution_count": 12,
   "id": "b16c9917",
   "metadata": {},
   "outputs": [
    {
     "name": "stdout",
     "output_type": "stream",
     "text": [
      "For only 49.00 dollars!\n"
     ]
    }
   ],
   "source": [
    "txt = \"For only {price:.2f} dollars!\"\n",
    "print(txt.format(price = 49))\n"
   ]
  },
  {
   "cell_type": "code",
   "execution_count": 13,
   "id": "8243f05c",
   "metadata": {},
   "outputs": [
    {
     "name": "stdout",
     "output_type": "stream",
     "text": [
      "for only  89.00 dollars\n"
     ]
    }
   ],
   "source": [
    "t = \"for only {price: 0.2f} dollars\"\n",
    "print(t.format(price=89))"
   ]
  },
  {
   "cell_type": "code",
   "execution_count": 14,
   "id": "9587a61a",
   "metadata": {},
   "outputs": [
    {
     "name": "stdout",
     "output_type": "stream",
     "text": [
      "for only 45.00000\n"
     ]
    }
   ],
   "source": [
    "print(\"for only {price:.5f}\".format(price=45))"
   ]
  },
  {
   "cell_type": "code",
   "execution_count": 17,
   "id": "33e61d1c",
   "metadata": {},
   "outputs": [
    {
     "name": "stdout",
     "output_type": "stream",
     "text": [
      "my name is kinga, i am 60 years old\n"
     ]
    }
   ],
   "source": [
    "print(\"my name is {name}, i am {age} years old\".format(name = \"kinga\", age =60))"
   ]
  },
  {
   "cell_type": "code",
   "execution_count": 20,
   "id": "70bed619",
   "metadata": {},
   "outputs": [
    {
     "name": "stdout",
     "output_type": "stream",
     "text": [
      "my name is liza, i am 34 years old\n"
     ]
    }
   ],
   "source": [
    "print(\"my name is {}, i am {} years old\".format(\"liza\",34))"
   ]
  },
  {
   "cell_type": "code",
   "execution_count": 26,
   "id": "93122433",
   "metadata": {},
   "outputs": [
    {
     "name": "stdout",
     "output_type": "stream",
     "text": [
      "30.00% off on shirts\n"
     ]
    }
   ],
   "source": [
    "print(\"{discount:.2%} off on {items}\".format(discount = 0.3, items = \"shirts\"))"
   ]
  },
  {
   "cell_type": "code",
   "execution_count": 11,
   "id": "6eacc187",
   "metadata": {},
   "outputs": [
    {
     "name": "stdout",
     "output_type": "stream",
     "text": [
      "20.00\n",
      "my name is missy\n",
      "my name is dennis i am 23 years old\n"
     ]
    }
   ],
   "source": [
    "print(\"{age:.2f}\".format(age = 20))\n",
    "print(\"my name is {name}\".format(name=\"missy\"))\n",
    "print(\"my name is {} i am {} years old\".format(\"dennis\",\"23\"))"
   ]
  },
  {
   "cell_type": "code",
   "execution_count": 12,
   "id": "710c7f0f",
   "metadata": {},
   "outputs": [
    {
     "name": "stdout",
     "output_type": "stream",
     "text": [
      "hello sir good morning\n"
     ]
    }
   ],
   "source": [
    "print(\"hello {} good {}\".format(\"sir\",\"morning\"))"
   ]
  },
  {
   "cell_type": "code",
   "execution_count": 13,
   "id": "f5f6fd6e",
   "metadata": {},
   "outputs": [
    {
     "name": "stdout",
     "output_type": "stream",
     "text": [
      "my baby eesha is 5\n"
     ]
    }
   ],
   "source": [
    "print(\"my baby {name} is {age}\".format(name=\"eesha\", age = \"5\"))"
   ]
  },
  {
   "cell_type": "code",
   "execution_count": null,
   "id": "ed19d9ba",
   "metadata": {},
   "outputs": [],
   "source": [
    "def main():\n",
    "    nSubjects = 0\n",
    "    totalMarks = 0\n",
    "        \n",
    "    while True:\n",
    "        marks = input(\"marks for subject\" + str(nSubjects+1)+\":\")\n",
    "        if marks ==\"\":\n",
    "            break\n",
    "        marks = float(marks)\n",
    "        if marks < 0 or marks > 100:\n",
    "            print(\"INVALID MARKS\")\n",
    "            continue\n",
    "        nSubjects = nSubjects + 1\n",
    "        totalMarks += marks\n",
    "        pdb.set_trace()\n",
    "    percentage = totalMarks / nSubjects\n",
    "    print(\"Total marks:\", int(totalMarks))\n",
    "    print(\"number of subjects:\", nSubjects)\n",
    "    print(\"percentage:\", round(percentage , 2))\n",
    "    \n",
    "if __name__ == \"__main__\":\n",
    "    main()\n"
   ]
  },
  {
   "cell_type": "code",
   "execution_count": 1,
   "id": "5b8322ef",
   "metadata": {},
   "outputs": [
    {
     "name": "stdout",
     "output_type": "stream",
     "text": [
      "deepika is 36 years old\n"
     ]
    }
   ],
   "source": [
    "print(\"%s is %d years old\" %(\"deepika\",36))"
   ]
  },
  {
   "cell_type": "code",
   "execution_count": 2,
   "id": "2132202d",
   "metadata": {},
   "outputs": [
    {
     "name": "stdout",
     "output_type": "stream",
     "text": [
      "86 marks awarded\n"
     ]
    }
   ],
   "source": [
    "print(\"%d marks awarded\" %(86))"
   ]
  },
  {
   "cell_type": "code",
   "execution_count": 4,
   "id": "c0084a12",
   "metadata": {},
   "outputs": [
    {
     "name": "stdout",
     "output_type": "stream",
     "text": [
      "1000.00\n"
     ]
    }
   ],
   "source": [
    "print(\"{price:.2f}\".format(price = 1000))"
   ]
  },
  {
   "cell_type": "code",
   "execution_count": 5,
   "id": "c95c8b78",
   "metadata": {},
   "outputs": [
    {
     "name": "stdout",
     "output_type": "stream",
     "text": [
      "glusoce levels are 48\n"
     ]
    }
   ],
   "source": [
    "print(\"glusoce levels are %d\" % (48))"
   ]
  },
  {
   "cell_type": "code",
   "execution_count": 7,
   "id": "a9d54608",
   "metadata": {},
   "outputs": [
    {
     "name": "stdout",
     "output_type": "stream",
     "text": [
      "siddhan is strong\n"
     ]
    }
   ],
   "source": [
    "print(\"%s is strong\" % (\"siddhan\"))"
   ]
  },
  {
   "cell_type": "code",
   "execution_count": 9,
   "id": "3a6cf6be",
   "metadata": {},
   "outputs": [
    {
     "name": "stdout",
     "output_type": "stream",
     "text": [
      "discount of 12.00\n"
     ]
    }
   ],
   "source": [
    "print(\"discount of {price:0.2f}\".format(price=12))"
   ]
  },
  {
   "cell_type": "code",
   "execution_count": 4,
   "id": "7d1ff50c",
   "metadata": {},
   "outputs": [
    {
     "name": "stdin",
     "output_type": "stream",
     "text": [
      "enter number: 5\n"
     ]
    },
    {
     "name": "stdout",
     "output_type": "stream",
     "text": [
      "in for  5 2\n",
      "in for  5 3\n",
      "in for  5 4\n",
      "in else  5\n",
      "5 is prime number\n"
     ]
    }
   ],
   "source": [
    "def prime(n):\n",
    "    if n ==1:\n",
    "        print(\"in if \" , n)\n",
    "        return False\n",
    "    for i in range(2,n):\n",
    "        print(\"in for \",n , i)\n",
    "        if n%i == 0:\n",
    "            print(n%i)\n",
    "            flag = False\n",
    "            break\n",
    "    else:\n",
    "        print(\"in else \",n)\n",
    "        flag = True\n",
    "    return flag\n",
    "\n",
    "def main():\n",
    "    n = int(input(\"enter number:\"))\n",
    "    result = prime(n)\n",
    "    if result == True:\n",
    "        print(n, \"is prime number\")\n",
    "    else:\n",
    "        print(n, \"is not prime number\")\n",
    "        \n",
    "        \n",
    "if __name_ == \"__main__\":\n",
    "    main()\n"
   ]
  },
  {
   "cell_type": "code",
   "execution_count": 7,
   "id": "bc4114d6",
   "metadata": {},
   "outputs": [
    {
     "name": "stdout",
     "output_type": "stream",
     "text": [
      "in for  2\n",
      "in for  3\n",
      "in for  4\n"
     ]
    }
   ],
   "source": [
    "for i in range(2,5):\n",
    "        print(\"in for \", i)"
   ]
  },
  {
   "cell_type": "code",
   "execution_count": 7,
   "id": "60a01926",
   "metadata": {},
   "outputs": [
    {
     "name": "stdout",
     "output_type": "stream",
     "text": [
      "0\n",
      "1\n",
      "2\n",
      "3\n",
      "4\n"
     ]
    }
   ],
   "source": [
    "for i in range(5):\n",
    "    print(i)"
   ]
  },
  {
   "cell_type": "code",
   "execution_count": 8,
   "id": "62f18b41",
   "metadata": {},
   "outputs": [
    {
     "name": "stdout",
     "output_type": "stream",
     "text": [
      "[1, 6, 11]: At least one value breaches limits.\n",
      "[6, 7, 8]: Successful Validation!\n"
     ]
    }
   ],
   "source": [
    "lower_limit = 5\n",
    "upper_limit = 10\n",
    "\n",
    "def validate_limits(input_data):\n",
    "    for i in input_data:\n",
    "        if(i <= lower_limit or i >= upper_limit):\n",
    "            print(f\"{input_data}: At least one value breaches limits.\")\n",
    "            break\n",
    "    else: #no break\n",
    "        print(f\"{input_data}: Successful Validation!\")\n",
    "\n",
    "validate_limits([1, 6, 11])\n",
    "validate_limits([6, 7, 8])"
   ]
  },
  {
   "cell_type": "code",
   "execution_count": 14,
   "id": "fa2d95cd",
   "metadata": {},
   "outputs": [
    {
     "name": "stdout",
     "output_type": "stream",
     "text": [
      "--Return--\n",
      "None\n",
      "> \u001b[0;32m/tmp/ipykernel_2511/3497566338.py\u001b[0m(3)\u001b[0;36m<module>\u001b[0;34m()\u001b[0m\n",
      "\u001b[0;32m      1 \u001b[0;31m\u001b[0;32mimport\u001b[0m \u001b[0mpdb\u001b[0m\u001b[0;34m\u001b[0m\u001b[0;34m\u001b[0m\u001b[0m\n",
      "\u001b[0m\u001b[0;32m      2 \u001b[0;31m\u001b[0mmy_treasure_box\u001b[0m \u001b[0;34m=\u001b[0m \u001b[0;34m[\u001b[0m\u001b[0;34m\"a\"\u001b[0m\u001b[0;34m,\u001b[0m \u001b[0;34m\"b\"\u001b[0m\u001b[0;34m,\u001b[0m \u001b[0;34m\"Diamond\"\u001b[0m\u001b[0;34m,\u001b[0m \u001b[0;34m\"c\"\u001b[0m\u001b[0;34m]\u001b[0m\u001b[0;34m\u001b[0m\u001b[0;34m\u001b[0m\u001b[0m\n",
      "\u001b[0m\u001b[0;32m----> 3 \u001b[0;31m\u001b[0mpdb\u001b[0m\u001b[0;34m.\u001b[0m\u001b[0mset_trace\u001b[0m\u001b[0;34m(\u001b[0m\u001b[0;34m)\u001b[0m\u001b[0;34m\u001b[0m\u001b[0;34m\u001b[0m\u001b[0m\n",
      "\u001b[0m\u001b[0;32m      4 \u001b[0;31m\u001b[0;32mdef\u001b[0m \u001b[0msearch\u001b[0m\u001b[0;34m(\u001b[0m\u001b[0msearch_item\u001b[0m\u001b[0;34m)\u001b[0m\u001b[0;34m:\u001b[0m\u001b[0;34m\u001b[0m\u001b[0;34m\u001b[0m\u001b[0m\n",
      "\u001b[0m\u001b[0;32m      5 \u001b[0;31m    \u001b[0;32mfor\u001b[0m \u001b[0mitem\u001b[0m \u001b[0;32min\u001b[0m \u001b[0mmy_treasure_box\u001b[0m\u001b[0;34m:\u001b[0m\u001b[0;34m\u001b[0m\u001b[0;34m\u001b[0m\u001b[0m\n",
      "\u001b[0m\n"
     ]
    },
    {
     "name": "stdin",
     "output_type": "stream",
     "text": [
      "ipdb>  l\n"
     ]
    },
    {
     "name": "stdout",
     "output_type": "stream",
     "text": [
      "\u001b[1;32m      1 \u001b[0m\u001b[0;32mimport\u001b[0m \u001b[0mpdb\u001b[0m\u001b[0;34m\u001b[0m\u001b[0;34m\u001b[0m\u001b[0m\n",
      "\u001b[1;32m      2 \u001b[0m\u001b[0mmy_treasure_box\u001b[0m \u001b[0;34m=\u001b[0m \u001b[0;34m[\u001b[0m\u001b[0;34m\"a\"\u001b[0m\u001b[0;34m,\u001b[0m \u001b[0;34m\"b\"\u001b[0m\u001b[0;34m,\u001b[0m \u001b[0;34m\"Diamond\"\u001b[0m\u001b[0;34m,\u001b[0m \u001b[0;34m\"c\"\u001b[0m\u001b[0;34m]\u001b[0m\u001b[0;34m\u001b[0m\u001b[0;34m\u001b[0m\u001b[0m\n",
      "\u001b[0;32m----> 3 \u001b[0;31m\u001b[0mpdb\u001b[0m\u001b[0;34m.\u001b[0m\u001b[0mset_trace\u001b[0m\u001b[0;34m(\u001b[0m\u001b[0;34m)\u001b[0m\u001b[0;34m\u001b[0m\u001b[0;34m\u001b[0m\u001b[0m\n",
      "\u001b[0m\u001b[1;32m      4 \u001b[0m\u001b[0;32mdef\u001b[0m \u001b[0msearch\u001b[0m\u001b[0;34m(\u001b[0m\u001b[0msearch_item\u001b[0m\u001b[0;34m)\u001b[0m\u001b[0;34m:\u001b[0m\u001b[0;34m\u001b[0m\u001b[0;34m\u001b[0m\u001b[0m\n",
      "\u001b[1;32m      5 \u001b[0m    \u001b[0;32mfor\u001b[0m \u001b[0mitem\u001b[0m \u001b[0;32min\u001b[0m \u001b[0mmy_treasure_box\u001b[0m\u001b[0;34m:\u001b[0m\u001b[0;34m\u001b[0m\u001b[0;34m\u001b[0m\u001b[0m\n",
      "\u001b[1;32m      6 \u001b[0m        \u001b[0;32mif\u001b[0m\u001b[0;34m(\u001b[0m\u001b[0mitem\u001b[0m\u001b[0;34m==\u001b[0m\u001b[0msearch_item\u001b[0m\u001b[0;34m)\u001b[0m\u001b[0;34m:\u001b[0m\u001b[0;34m\u001b[0m\u001b[0;34m\u001b[0m\u001b[0m\n",
      "\u001b[1;32m      7 \u001b[0m            \u001b[0mprint\u001b[0m\u001b[0;34m(\u001b[0m\u001b[0;34mf\"{search_item} Found!\"\u001b[0m\u001b[0;34m)\u001b[0m\u001b[0;34m\u001b[0m\u001b[0;34m\u001b[0m\u001b[0m\n",
      "\u001b[1;32m      8 \u001b[0m            \u001b[0;32mbreak\u001b[0m\u001b[0;34m\u001b[0m\u001b[0;34m\u001b[0m\u001b[0m\n",
      "\u001b[1;32m      9 \u001b[0m    \u001b[0;32melse\u001b[0m\u001b[0;34m:\u001b[0m\u001b[0;34m\u001b[0m\u001b[0;34m\u001b[0m\u001b[0m\n",
      "\u001b[1;32m     10 \u001b[0m        \u001b[0mprint\u001b[0m\u001b[0;34m(\u001b[0m\u001b[0;34mf\"No {search_item} found.\"\u001b[0m\u001b[0;34m)\u001b[0m\u001b[0;34m\u001b[0m\u001b[0;34m\u001b[0m\u001b[0m\n",
      "\u001b[1;32m     11 \u001b[0m\u001b[0;34m\u001b[0m\u001b[0m\n",
      "\n"
     ]
    },
    {
     "name": "stdin",
     "output_type": "stream",
     "text": [
      "ipdb>  c\n"
     ]
    },
    {
     "name": "stdout",
     "output_type": "stream",
     "text": [
      "Diamond Found!\n",
      "No Gold found.\n",
      "No rubies found.\n"
     ]
    }
   ],
   "source": [
    "import pdb\n",
    "my_treasure_box = [\"a\", \"b\", \"Diamond\", \"c\"]\n",
    "pdb.set_trace()\n",
    "def search(search_item):\n",
    "    for item in my_treasure_box:\n",
    "        if(item==search_item):\n",
    "            print(f\"{search_item} Found!\")\n",
    "            break\n",
    "    else:\n",
    "        print(f\"No {search_item} found.\")\n",
    "        \n",
    "search(\"Diamond\")\n",
    "search(\"Gold\")\n",
    "search(\"rubies\")"
   ]
  },
  {
   "cell_type": "code",
   "execution_count": 11,
   "id": "c61a9840",
   "metadata": {},
   "outputs": [
    {
     "name": "stdout",
     "output_type": "stream",
     "text": [
      "Datacamp is an Educational company.\n"
     ]
    }
   ],
   "source": [
    "# declaring variables\n",
    "name = \"Datacamp\"\n",
    "type_of_company = \"Educational\"\n",
    "\n",
    "# enclose your variable within the {} to display it's value in the output\n",
    "print(f\"{name} is an {type_of_company} company.\")"
   ]
  },
  {
   "cell_type": "code",
   "execution_count": 12,
   "id": "52c6fdcf",
   "metadata": {},
   "outputs": [
    {
     "name": "stdout",
     "output_type": "stream",
     "text": [
      "deepika is palthode\n"
     ]
    }
   ],
   "source": [
    "name = \"deepika\"\n",
    "lname = \"palthode\"\n",
    "print(f\"{name} is {lname}\")"
   ]
  },
  {
   "cell_type": "code",
   "execution_count": 1,
   "id": "8b631ae0",
   "metadata": {},
   "outputs": [
    {
     "name": "stdin",
     "output_type": "stream",
     "text": [
      "marks for subject1: 12\n"
     ]
    },
    {
     "ename": "NameError",
     "evalue": "name 'pdb' is not defined",
     "output_type": "error",
     "traceback": [
      "\u001b[0;31m---------------------------------------------------------------------------\u001b[0m",
      "\u001b[0;31mNameError\u001b[0m                                 Traceback (most recent call last)",
      "\u001b[0;32m/tmp/ipykernel_5623/2797370273.py\u001b[0m in \u001b[0;36m<module>\u001b[0;34m\u001b[0m\n\u001b[1;32m     20\u001b[0m \u001b[0;34m\u001b[0m\u001b[0m\n\u001b[1;32m     21\u001b[0m \u001b[0;32mif\u001b[0m \u001b[0m__name__\u001b[0m \u001b[0;34m==\u001b[0m \u001b[0;34m\"__main__\"\u001b[0m\u001b[0;34m:\u001b[0m\u001b[0;34m\u001b[0m\u001b[0;34m\u001b[0m\u001b[0m\n\u001b[0;32m---> 22\u001b[0;31m     \u001b[0mmain\u001b[0m\u001b[0;34m(\u001b[0m\u001b[0;34m)\u001b[0m\u001b[0;34m\u001b[0m\u001b[0;34m\u001b[0m\u001b[0m\n\u001b[0m",
      "\u001b[0;32m/tmp/ipykernel_5623/2797370273.py\u001b[0m in \u001b[0;36mmain\u001b[0;34m()\u001b[0m\n\u001b[1;32m     13\u001b[0m         \u001b[0mnSubjects\u001b[0m \u001b[0;34m=\u001b[0m \u001b[0mnSubjects\u001b[0m \u001b[0;34m+\u001b[0m \u001b[0;36m1\u001b[0m\u001b[0;34m\u001b[0m\u001b[0;34m\u001b[0m\u001b[0m\n\u001b[1;32m     14\u001b[0m         \u001b[0mtotalMarks\u001b[0m \u001b[0;34m+=\u001b[0m \u001b[0mmarks\u001b[0m\u001b[0;34m\u001b[0m\u001b[0;34m\u001b[0m\u001b[0m\n\u001b[0;32m---> 15\u001b[0;31m         \u001b[0mpdb\u001b[0m\u001b[0;34m.\u001b[0m\u001b[0mset_trace\u001b[0m\u001b[0;34m(\u001b[0m\u001b[0;34m)\u001b[0m\u001b[0;34m\u001b[0m\u001b[0;34m\u001b[0m\u001b[0m\n\u001b[0m\u001b[1;32m     16\u001b[0m     \u001b[0mpercentage\u001b[0m \u001b[0;34m=\u001b[0m \u001b[0mtotalMarks\u001b[0m \u001b[0;34m/\u001b[0m \u001b[0mnSubjects\u001b[0m\u001b[0;34m\u001b[0m\u001b[0;34m\u001b[0m\u001b[0m\n\u001b[1;32m     17\u001b[0m     \u001b[0mprint\u001b[0m\u001b[0;34m(\u001b[0m\u001b[0;34m\"Total marks:\"\u001b[0m\u001b[0;34m,\u001b[0m \u001b[0mint\u001b[0m\u001b[0;34m(\u001b[0m\u001b[0mtotalMarks\u001b[0m\u001b[0;34m)\u001b[0m\u001b[0;34m)\u001b[0m\u001b[0;34m\u001b[0m\u001b[0;34m\u001b[0m\u001b[0m\n",
      "\u001b[0;31mNameError\u001b[0m: name 'pdb' is not defined"
     ]
    }
   ],
   "source": [
    "import pdb\n",
    "def main():\n",
    "    nSubjects = 0\n",
    "    totalMarks = 0\n",
    "        \n",
    "    while True:\n",
    "        marks = input(\"marks for subject\" + str(nSubjects+1)+\":\")\n",
    "        if marks ==\"\":\n",
    "            break\n",
    "        marks = float(marks)\n",
    "        if marks < 0 or marks > 100:\n",
    "            print(\"INVALID MARKS\")\n",
    "            continue\n",
    "        nSubjects = nSubjects + 1\n",
    "        totalMarks += marks\n",
    "        pdb.set_trace()\n",
    "    percentage = totalMarks / nSubjects\n",
    "    print(\"Total marks:\", int(totalMarks))\n",
    "    print(\"number of subjects:\", nSubjects)\n",
    "    print(\"percentage:\", round(percentage , 2))\n",
    "    \n",
    "if __name__ == \"__main__\":\n",
    "    main()\n"
   ]
  },
  {
   "cell_type": "code",
   "execution_count": 2,
   "id": "4e8e82b0",
   "metadata": {},
   "outputs": [
    {
     "name": "stdout",
     "output_type": "stream",
     "text": [
      "b'hello'\n"
     ]
    }
   ],
   "source": [
    "byte_message = bytes(\"hello\", 'utf-8')\n",
    "print(byte_message)"
   ]
  },
  {
   "cell_type": "code",
   "execution_count": 4,
   "id": "033f1ffa",
   "metadata": {},
   "outputs": [
    {
     "data": {
      "text/plain": [
       "b'\\x01\\x02\\x03\\x04\\x05'"
      ]
     },
     "execution_count": 4,
     "metadata": {},
     "output_type": "execute_result"
    }
   ],
   "source": [
    "rList = [1, 2, 3, 4, 5]\n",
    "\n",
    "arr = bytes(rList)\n",
    "arr"
   ]
  },
  {
   "cell_type": "code",
   "execution_count": 5,
   "id": "7ef038b9",
   "metadata": {},
   "outputs": [
    {
     "name": "stdout",
     "output_type": "stream",
     "text": [
      "b'\\x00\\x00\\x00\\x00'\n"
     ]
    }
   ],
   "source": [
    "arr = bytes(4)\n",
    "print(arr)"
   ]
  },
  {
   "cell_type": "code",
   "execution_count": 15,
   "id": "bb096cb8",
   "metadata": {},
   "outputs": [
    {
     "name": "stdout",
     "output_type": "stream",
     "text": [
      "b'XYZ'\n"
     ]
    }
   ],
   "source": [
    "byte_array = bytearray('XYZ', 'utf-8')\n",
    "\n",
    "mv = memoryview(byte_array)\n",
    "\n",
    "#print(bytes(mv[0]))\n",
    "print(bytes(mv[0:]))\n"
   ]
  },
  {
   "cell_type": "code",
   "execution_count": 16,
   "id": "1dd7156c",
   "metadata": {},
   "outputs": [
    {
     "name": "stdout",
     "output_type": "stream",
     "text": [
      "Before update: bytearray(b'XYZ')\n",
      "After update: bytearray(b'XYJ')\n"
     ]
    }
   ],
   "source": [
    "# Python program to illustrate\n",
    "# Modifying internal data using memory view\n",
    "\n",
    "# random bytearray\n",
    "byte_array = bytearray('XYZ', 'utf-8')\n",
    "print('Before update:', byte_array)\n",
    "\n",
    "mem_view = memoryview(byte_array)\n",
    "\n",
    "# update 2nd index of mem_view to J\n",
    "mem_view[2] = 74\n",
    "print('After update:', byte_array)\n"
   ]
  },
  {
   "cell_type": "code",
   "execution_count": null,
   "id": "94299c2a",
   "metadata": {},
   "outputs": [],
   "source": []
  }
 ],
 "metadata": {
  "kernelspec": {
   "display_name": "Python 3.9 (XPython)",
   "language": "python",
   "name": "xpython"
  },
  "language_info": {
   "file_extension": ".py",
   "mimetype": "text/x-python",
   "name": "python",
   "version": "3.9.7"
  }
 },
 "nbformat": 4,
 "nbformat_minor": 5
}
