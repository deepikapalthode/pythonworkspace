{
 "cells": [
  {
   "cell_type": "code",
   "execution_count": 1,
   "id": "f5a0efa5",
   "metadata": {},
   "outputs": [
    {
     "name": "stdout",
     "output_type": "stream",
     "text": [
      "I can walk and run\n",
      "I can crawl\n",
      "I can bark\n",
      "I can roar\n"
     ]
    }
   ],
   "source": [
    "# Python program showing\n",
    "# abstract base class work\n",
    "\n",
    "from abc import ABC, abstractmethod\n",
    "class Animal(ABC):\n",
    "\n",
    "\tdef move(self):\n",
    "\t\tpass\n",
    "\n",
    "class Human(Animal):\n",
    "\n",
    "\tdef move(self):\n",
    "\t\tprint(\"I can walk and run\")\n",
    "\n",
    "class Snake(Animal):\n",
    "\n",
    "\tdef move(self):\n",
    "\t\tprint(\"I can crawl\")\n",
    "\n",
    "class Dog(Animal):\n",
    "\n",
    "\tdef move(self):\n",
    "\t\tprint(\"I can bark\")\n",
    "\n",
    "class Lion(Animal):\n",
    "\n",
    "\tdef move(self):\n",
    "\t\tprint(\"I can roar\")\n",
    "\t\t\n",
    "# Driver code\n",
    "R = Human()\n",
    "R.move()\n",
    "\n",
    "K = Snake()\n",
    "K.move()\n",
    "\n",
    "R = Dog()\n",
    "R.move()\n",
    "\n",
    "K = Lion()\n",
    "K.move()\n"
   ]
  },
  {
   "cell_type": "code",
   "execution_count": 14,
   "id": "e0d40bd5",
   "metadata": {},
   "outputs": [
    {
     "name": "stdout",
     "output_type": "stream",
     "text": [
      "area of reactangle is 480\n",
      "area of circle is 314.0\n"
     ]
    }
   ],
   "source": [
    "from abc import ABC, abstractmethod\n",
    "class Shape(ABC):\n",
    "    def __init__(self,shape):\n",
    "        self.shape = shape\n",
    "    def area(self):\n",
    "        pass\n",
    "class Rect(Shape):\n",
    "    def __init__(self,len,brd):\n",
    "        self.len = len\n",
    "        self.brd = brd\n",
    "    def area(self):\n",
    "        return self.len*self.brd\n",
    "class Circle(Shape):\n",
    "    def __init__(self,rad):\n",
    "        self.rad=rad\n",
    "    def area(self):\n",
    "        return 3.14*self.rad*self.rad\n",
    "\n",
    "R = Rect(40,12)\n",
    "print(\"area of reactangle is {}\".format(R.area()))\n",
    "C = Circle(10)\n",
    "print(\"area of circle is {}\".format(C.area()))\n"
   ]
  },
  {
   "cell_type": "code",
   "execution_count": 5,
   "id": "9bb6a617",
   "metadata": {},
   "outputs": [
    {
     "name": "stdout",
     "output_type": "stream",
     "text": [
      "hi deep\n"
     ]
    }
   ],
   "source": [
    "print(\"hi {}\".format(\"deep\"))"
   ]
  },
  {
   "cell_type": "code",
   "execution_count": 6,
   "id": "37a4bebc",
   "metadata": {},
   "outputs": [
    {
     "name": "stdout",
     "output_type": "stream",
     "text": [
      "my age is 40\n"
     ]
    }
   ],
   "source": [
    "print(\"my age is %d\" %(40))"
   ]
  },
  {
   "cell_type": "code",
   "execution_count": 7,
   "id": "c93c88cc",
   "metadata": {},
   "outputs": [
    {
     "name": "stdout",
     "output_type": "stream",
     "text": [
      "hey there joe\n"
     ]
    }
   ],
   "source": [
    "name = \"joe\"\n",
    "print(f\"hey there {name}\")"
   ]
  },
  {
   "cell_type": "code",
   "execution_count": 10,
   "id": "bd578528",
   "metadata": {},
   "outputs": [
    {
     "name": "stdout",
     "output_type": "stream",
     "text": [
      "i got 90.00%\n"
     ]
    }
   ],
   "source": [
    "print(\"i got {:.2f}%\".format(90))"
   ]
  },
  {
   "cell_type": "code",
   "execution_count": 11,
   "id": "adaa1edc",
   "metadata": {},
   "outputs": [
    {
     "name": "stdout",
     "output_type": "stream",
     "text": [
      "funtoosh discount 20.00%\n"
     ]
    }
   ],
   "source": [
    "print(\"funtoosh discount {:.2f}%\".format(20))"
   ]
  },
  {
   "cell_type": "code",
   "execution_count": 12,
   "id": "9640d849",
   "metadata": {},
   "outputs": [
    {
     "name": "stdout",
     "output_type": "stream",
     "text": [
      "I have 3 sides\n",
      "I have 4 sides\n",
      "I have 5 sides\n",
      "I have 6 sides\n"
     ]
    }
   ],
   "source": [
    "# Python program showing\n",
    "# abstract base class work\n",
    "\n",
    "from abc import ABC, abstractmethod\n",
    "\n",
    "class Polygon(ABC):\n",
    "\n",
    "\t@abstractmethod\n",
    "\tdef noofsides(self):\n",
    "\t\tpass\n",
    "\n",
    "class Triangle(Polygon):\n",
    "\n",
    "\t# overriding abstract method\n",
    "\tdef noofsides(self):\n",
    "\t\tprint(\"I have 3 sides\")\n",
    "\n",
    "class Pentagon(Polygon):\n",
    "\n",
    "\t# overriding abstract method\n",
    "\tdef noofsides(self):\n",
    "\t\tprint(\"I have 5 sides\")\n",
    "\n",
    "class Hexagon(Polygon):\n",
    "\n",
    "\t# overriding abstract method\n",
    "\tdef noofsides(self):\n",
    "\t\tprint(\"I have 6 sides\")\n",
    "\n",
    "class Quadrilateral(Polygon):\n",
    "\n",
    "\t# overriding abstract method\n",
    "\tdef noofsides(self):\n",
    "\t\tprint(\"I have 4 sides\")\n",
    "\n",
    "# Driver code\n",
    "R = Triangle()\n",
    "R.noofsides()\n",
    "\n",
    "K = Quadrilateral()\n",
    "K.noofsides()\n",
    "\n",
    "R = Pentagon()\n",
    "R.noofsides()\n",
    "\n",
    "K = Hexagon()\n",
    "K.noofsides()\n"
   ]
  },
  {
   "cell_type": "code",
   "execution_count": 17,
   "id": "7ab77d8a",
   "metadata": {},
   "outputs": [
    {
     "name": "stdout",
     "output_type": "stream",
     "text": [
      "Abstract Base Class\n",
      "subclass \n"
     ]
    }
   ],
   "source": [
    "# Python program invoking a\n",
    "# method using super()\n",
    "\n",
    "import abc\n",
    "from abc import ABC, abstractmethod\n",
    "\n",
    "class R(ABC):\n",
    "\tdef rk(self):\n",
    "\t\tprint(\"Abstract Base Class\")\n",
    "\n",
    "class K(R):\n",
    "\tdef rk(self):\n",
    "\t\tsuper().rk()\n",
    "\t\tprint(\"subclass \")\n",
    "\n",
    "# Driver code\n",
    "r = K()\n",
    "r.rk()\n"
   ]
  },
  {
   "cell_type": "code",
   "execution_count": 18,
   "id": "3499de65",
   "metadata": {},
   "outputs": [
    {
     "name": "stdout",
     "output_type": "stream",
     "text": [
      "True\n"
     ]
    }
   ],
   "source": [
    "print(issubclass(Rect,Shape))"
   ]
  },
  {
   "cell_type": "code",
   "execution_count": 19,
   "id": "9a551cbb",
   "metadata": {},
   "outputs": [
    {
     "name": "stdout",
     "output_type": "stream",
     "text": [
      "True\n"
     ]
    }
   ],
   "source": [
    "print(issubclass(R,ABC))"
   ]
  },
  {
   "cell_type": "code",
   "execution_count": 20,
   "id": "6816c619",
   "metadata": {},
   "outputs": [
    {
     "data": {
      "text/plain": [
       "True"
      ]
     },
     "execution_count": 20,
     "metadata": {},
     "output_type": "execute_result"
    }
   ],
   "source": [
    "hasattr(int,\"__eq__\")"
   ]
  },
  {
   "cell_type": "code",
   "execution_count": null,
   "id": "9555a065",
   "metadata": {},
   "outputs": [],
   "source": []
  }
 ],
 "metadata": {
  "kernelspec": {
   "display_name": "Python 3 (ipykernel)",
   "language": "python",
   "name": "python3"
  },
  "language_info": {
   "codemirror_mode": {
    "name": "ipython",
    "version": 3
   },
   "file_extension": ".py",
   "mimetype": "text/x-python",
   "name": "python",
   "nbconvert_exporter": "python",
   "pygments_lexer": "ipython3",
   "version": "3.9.5"
  }
 },
 "nbformat": 4,
 "nbformat_minor": 5
}
