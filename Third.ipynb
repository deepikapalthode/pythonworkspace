{
 "cells": [
  {
   "cell_type": "code",
   "execution_count": 2,
   "id": "8a5381ab",
   "metadata": {},
   "outputs": [
    {
     "name": "stdout",
     "output_type": "stream",
     "text": [
      "9476576\n",
      "9476576\n"
     ]
    },
    {
     "ename": "<class 'NameError'>",
     "evalue": "name 'a' is not defined",
     "output_type": "error",
     "traceback": [
      "\u001b[0;31m---------------------------------------------------------------------------\u001b[0m",
      "\u001b[0;31mNameError\u001b[0m                                 Traceback (most recent call last)",
      "\u001b[0;32m/tmp/xpython_5545/1223941764.py\u001b[0m in \u001b[0;36m<module>\u001b[0;34m\u001b[0m\n\u001b[1;32m      4\u001b[0m \u001b[0mprint\u001b[0m\u001b[0;34m(\u001b[0m\u001b[0mid\u001b[0m\u001b[0;34m(\u001b[0m\u001b[0mb\u001b[0m\u001b[0;34m)\u001b[0m\u001b[0;34m)\u001b[0m\u001b[0;34m\u001b[0m\u001b[0;34m\u001b[0m\u001b[0m\n\u001b[1;32m      5\u001b[0m \u001b[0;32mdel\u001b[0m\u001b[0;34m(\u001b[0m\u001b[0ma\u001b[0m\u001b[0;34m)\u001b[0m\u001b[0;34m\u001b[0m\u001b[0;34m\u001b[0m\u001b[0m\n\u001b[0;32m----> 6\u001b[0;31m \u001b[0mprint\u001b[0m\u001b[0;34m(\u001b[0m\u001b[0ma\u001b[0m\u001b[0;34m)\u001b[0m\u001b[0;34m\u001b[0m\u001b[0;34m\u001b[0m\u001b[0m\n\u001b[0m\u001b[1;32m      7\u001b[0m \u001b[0mprint\u001b[0m\u001b[0;34m(\u001b[0m\u001b[0mid\u001b[0m\u001b[0;34m(\u001b[0m\u001b[0mb\u001b[0m\u001b[0;34m)\u001b[0m\u001b[0;34m)\u001b[0m\u001b[0;34m\u001b[0m\u001b[0;34m\u001b[0m\u001b[0m\n",
      "\u001b[0;31mNameError\u001b[0m: name 'a' is not defined"
     ]
    }
   ],
   "source": [
    "a=5\n",
    "print(id(a))\n",
    "b = 2+3\n",
    "print(id(b))\n",
    "del(a) \n",
    "print(a)\n",
    "print(id(b))"
   ]
  },
  {
   "cell_type": "code",
   "execution_count": 12,
   "id": "8df760b5",
   "metadata": {},
   "outputs": [
    {
     "name": "stdout",
     "output_type": "stream",
     "text": [
      "in f a:  10\n",
      "in g a:  8\n",
      "in f after g a:  8\n",
      "after f:  4\n"
     ]
    }
   ],
   "source": [
    "a = 4\n",
    "def f():\n",
    "    a=10\n",
    "    print(\"in f a: \",a)\n",
    "    def g():\n",
    "        nonlocal  a\n",
    "        a = 8\n",
    "        print(\"in g a: \",a)\n",
    "    g()\n",
    "    print(\"in f after g a: \",a)\n",
    "f()\n",
    "print(\"after f: \",a)    \n"
   ]
  },
  {
   "cell_type": "code",
   "execution_count": 17,
   "id": "b2acf4cc",
   "metadata": {},
   "outputs": [
    {
     "name": "stdout",
     "output_type": "stream",
     "text": [
      "1 is not 2\n",
      "my age is 38\n",
      "1 is never 2\n",
      "deepika is python developer\n"
     ]
    }
   ],
   "source": [
    "a = 1\n",
    "b = 2\n",
    "print(f\"{a} is not {b}\")\n",
    "print(\"my age is %d\" %(38))\n",
    "print(f\"{a} is never {b}\")\n",
    "print(\"%s is python developer\" % (\"deepika\"))"
   ]
  },
  {
   "cell_type": "code",
   "execution_count": 23,
   "id": "389e5b80",
   "metadata": {},
   "outputs": [
    {
     "name": "stdout",
     "output_type": "stream",
     "text": [
      "discount of 12.00\n",
      "i got 80.00%\n"
     ]
    }
   ],
   "source": [
    "print(\"discount of {price:0.2f}\".format(price=12))\n",
    "print(\"i got {percentage:0.2%}\".format(percentage=0.8))"
   ]
  },
  {
   "cell_type": "code",
   "execution_count": 25,
   "id": "a587e39e",
   "metadata": {},
   "outputs": [
    {
     "name": "stdout",
     "output_type": "stream",
     "text": [
      "gowlikar would be palthode\n"
     ]
    }
   ],
   "source": [
    "lname = \"gowlikar\"\n",
    "fname = \"palthode\"\n",
    "print(f\"{lname} would be {fname}\")"
   ]
  },
  {
   "cell_type": "code",
   "execution_count": 26,
   "id": "ea818bcd",
   "metadata": {},
   "outputs": [
    {
     "name": "stdout",
     "output_type": "stream",
     "text": [
      "90.000000 marks\n"
     ]
    }
   ],
   "source": [
    "print(\"%f marks\" % (90))"
   ]
  },
  {
   "cell_type": "code",
   "execution_count": 27,
   "id": "86ad0b9a",
   "metadata": {},
   "outputs": [
    {
     "name": "stdout",
     "output_type": "stream",
     "text": [
      "i got 90.00% marks\n"
     ]
    }
   ],
   "source": [
    "print(\"i got {per:0.2%} marks\".format(per=0.9))"
   ]
  },
  {
   "cell_type": "code",
   "execution_count": 41,
   "id": "94d8ccd0",
   "metadata": {},
   "outputs": [
    {
     "name": "stdout",
     "output_type": "stream",
     "text": [
      "in global frame 9476544 4\n",
      "in f a:  9476736 10\n",
      "in g a:  9476448 1\n",
      "in f after g a:  9476736 10\n",
      "after f:  9476544 4\n"
     ]
    }
   ],
   "source": [
    "a = 4\n",
    "print(\"in global frame\", id(a), a)\n",
    "def f():\n",
    "    a=10\n",
    "    print(\"in f a: \",id(a), a)\n",
    "    def g():\n",
    "        #a=10\n",
    "        #nonlocal  a\n",
    "        a = 1\n",
    "        print(\"in g a: \",id(a),a)\n",
    "    g()\n",
    "    print(\"in f after g a: \",id(a),a)\n",
    "f()\n",
    "print(\"after f: \",id(a),a) "
   ]
  },
  {
   "cell_type": "code",
   "execution_count": 1,
   "id": "89d508df",
   "metadata": {},
   "outputs": [
    {
     "name": "stdout",
     "output_type": "stream",
     "text": [
      "globalvar:  10\n",
      "localvar:  20\n",
      "global ===  10\n"
     ]
    },
    {
     "ename": "<class 'NameError'>",
     "evalue": "name 'localvar' is not defined",
     "output_type": "error",
     "traceback": [
      "\u001b[0;31m---------------------------------------------------------------------------\u001b[0m",
      "\u001b[0;31mNameError\u001b[0m                                 Traceback (most recent call last)",
      "\u001b[0;32m/tmp/xpython_5350/1452030603.py\u001b[0m in \u001b[0;36m<module>\u001b[0;34m\u001b[0m\n\u001b[1;32m      7\u001b[0m \u001b[0mtest\u001b[0m\u001b[0;34m(\u001b[0m\u001b[0;34m)\u001b[0m\u001b[0;34m\u001b[0m\u001b[0;34m\u001b[0m\u001b[0m\n\u001b[1;32m      8\u001b[0m \u001b[0mprint\u001b[0m\u001b[0;34m(\u001b[0m\u001b[0;34m\"global === \"\u001b[0m\u001b[0;34m,\u001b[0m \u001b[0mglobalvar\u001b[0m\u001b[0;34m)\u001b[0m\u001b[0;34m\u001b[0m\u001b[0;34m\u001b[0m\u001b[0m\n\u001b[0;32m----> 9\u001b[0;31m \u001b[0mprint\u001b[0m\u001b[0;34m(\u001b[0m\u001b[0;34m\"local == \"\u001b[0m\u001b[0;34m,\u001b[0m \u001b[0mlocalvar\u001b[0m\u001b[0;34m)\u001b[0m\u001b[0;34m\u001b[0m\u001b[0;34m\u001b[0m\u001b[0m\n\u001b[0m",
      "\u001b[0;31mNameError\u001b[0m: name 'localvar' is not defined"
     ]
    }
   ],
   "source": [
    "globalvar =10\n",
    "def test():\n",
    "    localvar = 20\n",
    "    print(\"globalvar: \",globalvar)\n",
    "    print(\"localvar: \",localvar)\n",
    "    \n",
    "test()\n",
    "print(\"global === \", globalvar)\n",
    "print(\"local == \", localvar)"
   ]
  },
  {
   "cell_type": "code",
   "execution_count": 3,
   "id": "2286f4de",
   "metadata": {},
   "outputs": [
    {
     "name": "stdout",
     "output_type": "stream",
     "text": [
      "globalvar:  30\n",
      "localvar:  20\n",
      "global ==  10\n"
     ]
    }
   ],
   "source": [
    "globalvar =10\n",
    "def test():\n",
    "    localvar = 20\n",
    "    globalvar = 30\n",
    "    print(\"globalvar: \",globalvar)\n",
    "    print(\"localvar: \",localvar)\n",
    "    \n",
    "test()\n",
    "print(\"global == \", globalvar)\n"
   ]
  },
  {
   "cell_type": "code",
   "execution_count": 4,
   "id": "009a14c9",
   "metadata": {},
   "outputs": [
    {
     "name": "stdout",
     "output_type": "stream",
     "text": [
      "globalvar:  30\n",
      "localvar:  20\n",
      "global ===  30\n"
     ]
    }
   ],
   "source": [
    "globalvar =10\n",
    "def test():\n",
    "    global globalvar\n",
    "    localvar = 20\n",
    "    globalvar = 30\n",
    "    print(\"globalvar: \",globalvar)\n",
    "    print(\"localvar: \",localvar)\n",
    "    \n",
    "test()\n",
    "print(\"global === \", globalvar)\n"
   ]
  },
  {
   "cell_type": "code",
   "execution_count": 16,
   "id": "0bdc4185",
   "metadata": {},
   "outputs": [
    {
     "name": "stdout",
     "output_type": "stream",
     "text": [
      "10\n"
     ]
    }
   ],
   "source": [
    "def test1():\n",
    "    test1.a =10\n",
    "    print(test1.a)\n",
    "    \n",
    "test1()\n",
    "#functionname.variablename"
   ]
  },
  {
   "cell_type": "code",
   "execution_count": 4,
   "id": "dccf20ff",
   "metadata": {},
   "outputs": [
    {
     "name": "stdout",
     "output_type": "stream",
     "text": [
      "3\n",
      "3\n"
     ]
    }
   ],
   "source": [
    "x=2\n",
    "def test():\n",
    "    global x\n",
    "    x=x+1\n",
    "    print(x)\n",
    "\n",
    "test()\n",
    "print(x)"
   ]
  },
  {
   "cell_type": "code",
   "execution_count": 6,
   "id": "e34938eb",
   "metadata": {},
   "outputs": [
    {
     "name": "stdout",
     "output_type": "stream",
     "text": [
      "inside g:  10\n",
      "inside h:  20\n",
      "inside f:  20\n",
      "global :  4\n"
     ]
    }
   ],
   "source": [
    "a = 4\n",
    "def f():\n",
    "    a=5\n",
    "    def g():\n",
    "        nonlocal a\n",
    "        a = 10\n",
    "        print(\"inside g: \",a)\n",
    "        def h():\n",
    "            nonlocal a \n",
    "            a=20\n",
    "            print(\"inside h: \",a)\n",
    "        h()\n",
    "    g()\n",
    "    print(\"inside f: \", a)\n",
    "f()\n",
    "print(\"global : \",a)"
   ]
  },
  {
   "cell_type": "code",
   "execution_count": 19,
   "id": "5409d9b6",
   "metadata": {},
   "outputs": [
    {
     "name": "stdout",
     "output_type": "stream",
     "text": [
      "in main f:  139675653269824\n",
      "global f:  139675653269824\n",
      "f before modification:  139675653269824\n",
      "after modification:  139675653268816\n",
      "inner f:  139675653268816\n",
      "after modification f in main f:  139675653268816\n",
      "global f:  139675653268816\n",
      "in h: \n",
      "inner f:  139675653268816\n"
     ]
    }
   ],
   "source": [
    "def f():\n",
    "    print(\"global f: \",id(f))\n",
    "\n",
    "def g():\n",
    "    global f\n",
    "    print(\"f before modification: \",id(f))\n",
    "    def f():\n",
    "        print(\"inner f: \",id(f))\n",
    "    print(\"after modification: \",id(f))\n",
    "    f()\n",
    "    \n",
    "def h():\n",
    "    print(\"in h: \")\n",
    "    f()\n",
    "  #  fprime()\n",
    "    \n",
    "def main():\n",
    "    print(\"in main f: \",id(f))\n",
    "    fprime = f\n",
    "    f()\n",
    "    g()\n",
    "    print(\"after modification f in main f: \",id(f))\n",
    "    fprime()\n",
    "    h()\n",
    "    \n",
    "if __name__==\"__main__\":\n",
    "    main()"
   ]
  },
  {
   "cell_type": "code",
   "execution_count": 28,
   "id": "775bf8f8",
   "metadata": {},
   "outputs": [
    {
     "data": {
      "text/plain": [
       "True"
      ]
     },
     "execution_count": 28,
     "metadata": {},
     "output_type": "execute_result"
    }
   ],
   "source": [
    "s = \"hello\"\n",
    "#s[0:3:3]\n",
    "'ll' in s "
   ]
  },
  {
   "cell_type": "code",
   "execution_count": 29,
   "id": "2f91872d",
   "metadata": {},
   "outputs": [
    {
     "data": {
      "text/plain": [
       "2"
      ]
     },
     "execution_count": 29,
     "metadata": {},
     "output_type": "execute_result"
    }
   ],
   "source": [
    "\"hello\".count('l')"
   ]
  },
  {
   "cell_type": "code",
   "execution_count": 38,
   "id": "09216f89",
   "metadata": {},
   "outputs": [
    {
     "name": "stdout",
     "output_type": "stream",
     "text": [
      "vowels:  7\n"
     ]
    }
   ],
   "source": [
    "v=\"aeiou\"\n",
    "s = \"encyclopediiaa\"\n",
    "cnt = 0 \n",
    "for i in v:\n",
    "    global cnt\n",
    "    cnt += s.count(i)\n",
    "    \n",
    "print(\"vowels: \",cnt)\n",
    "    "
   ]
  },
  {
   "cell_type": "code",
   "execution_count": 42,
   "id": "8f4ea9b1",
   "metadata": {},
   "outputs": [
    {
     "data": {
      "text/plain": [
       "41"
      ]
     },
     "execution_count": 42,
     "metadata": {},
     "output_type": "execute_result"
    }
   ],
   "source": [
    "names = \"geeta,sita,peeta,neeta,meeta,teeta,geeta,sita\"\n",
    "names.rfind(\"sita\")"
   ]
  },
  {
   "cell_type": "code",
   "execution_count": 43,
   "id": "b9e33841",
   "metadata": {},
   "outputs": [
    {
     "data": {
      "text/plain": [
       "'Python is fun to learn'"
      ]
     },
     "execution_count": 43,
     "metadata": {},
     "output_type": "execute_result"
    }
   ],
   "source": [
    "\"python is fun to learn\".capitalize()"
   ]
  },
  {
   "cell_type": "code",
   "execution_count": 44,
   "id": "6aecbd97",
   "metadata": {},
   "outputs": [
    {
     "data": {
      "text/plain": [
       "'Python Is Fun To Learn'"
      ]
     },
     "execution_count": 44,
     "metadata": {},
     "output_type": "execute_result"
    }
   ],
   "source": [
    "\"python is fun to learn\".title()"
   ]
  },
  {
   "cell_type": "code",
   "execution_count": 45,
   "id": "57a521da",
   "metadata": {},
   "outputs": [
    {
     "data": {
      "text/plain": [
       "'PYTHON IS FUN TO LEARN'"
      ]
     },
     "execution_count": 45,
     "metadata": {},
     "output_type": "execute_result"
    }
   ],
   "source": [
    "\"python is fun to learn\".upper()"
   ]
  },
  {
   "cell_type": "code",
   "execution_count": 46,
   "id": "61f8ca54",
   "metadata": {},
   "outputs": [
    {
     "data": {
      "text/plain": [
       "'python is fun to learn'"
      ]
     },
     "execution_count": 46,
     "metadata": {},
     "output_type": "execute_result"
    }
   ],
   "source": [
    "\"PYTHON is fun to LEARN\".lower()"
   ]
  },
  {
   "cell_type": "code",
   "execution_count": null,
   "id": "7a07973c",
   "metadata": {},
   "outputs": [],
   "source": [
    "]=j\\\\\\\\\\\\\\\\\\\\oi9oooooopooooooooooooooooooooooooooooooooooooooooooooooooooooooooooooooooooooooooooooooooooooooooooooooooooooooooooooooooojjjjjjjjjjjjjjjjjjjjjjjjjjjjjjjjjjjjjjjjjjjjjjjjjjjjjjjjjjjjjjjjjjjjjjjjjjjjjjjjjjjjjjjjjjjjjjjjjjjjjjjjjjjjjjjjjjjjjjjjjjjjjjjjjjjjjjjjjjjjjjjjjjjjjjjjjjjjjjjjjjjjjjjjjjjjjjjjjjjjjjjjjjjjjjjjjjjjjjjjjjjjjjjjjjjjjjjjjjjjjjjjjjjjjjjjjjjjjjjjjjjjjjjjjjjjjjjjjjjjjjjjjjjjjjjjjjjjjjjjjjjjjjjjjjjjjjjjjjjjjjjjjjjjjjjjjjjjjjjjjjjjjjjjjjjjjjjjjjjjjjjjjjjjjjjjjjjjjjjjjjjjjjjjjjjjjjjjjjjjjjjjjjjjjjjjjjjjjjjjjjjjjjjjjjjjjjjjjjjjjjjjjjjjjjjjjjjjjjjjjjjjjjjjjjjjjjjjjjjjjjjjjjjjjjjjjjjjjjjjjjjjjjjjjjjjjjjjjjjjjjjjjjjjjjjjjjjjjjjjjjjjjjjjjjjjjjjjjjjjjjjjjjjjjjjjjjjjjjjjjjjjjjjjjjjjjjjjjjjjjjjjjjjjjjjjjjjjjjjjjjjjjjjjjjjjjjjjjjjjjjjjjjjjjjjjjjjjjjjjjjjjjjjjjjjjjjjjjjjjjjjjjjjjjjjjjjjjjjjj.'\\.\n",
    " '"
   ]
  }
 ],
 "metadata": {
  "kernelspec": {
   "display_name": "Python 3.9 (XPython)",
   "language": "python",
   "name": "xpython"
  },
  "language_info": {
   "file_extension": ".py",
   "mimetype": "text/x-python",
   "name": "python",
   "version": "3.9.7"
  }
 },
 "nbformat": 4,
 "nbformat_minor": 5
}
