{
 "cells": [
  {
   "cell_type": "code",
   "execution_count": 19,
   "id": "39a1e22d",
   "metadata": {},
   "outputs": [
    {
     "name": "stdout",
     "output_type": "stream",
     "text": [
      "       12345\n"
     ]
    }
   ],
   "source": [
    "print('%12d' %(12345))"
   ]
  },
  {
   "cell_type": "code",
   "execution_count": 26,
   "id": "fbb02e49",
   "metadata": {},
   "outputs": [
    {
     "ename": "KeyError",
     "evalue": "1",
     "output_type": "error",
     "traceback": [
      "\u001b[0;31m---------------------------------------------------------------------------\u001b[0m",
      "\u001b[0;31mKeyError\u001b[0m                                  Traceback (most recent call last)",
      "\u001b[0;32m/tmp/ipykernel_4179/1198141818.py\u001b[0m in \u001b[0;36m<module>\u001b[0;34m\u001b[0m\n\u001b[1;32m      1\u001b[0m \u001b[0mfruits\u001b[0m \u001b[0;34m=\u001b[0m \u001b[0;34m{\u001b[0m\u001b[0;34m\"first\"\u001b[0m\u001b[0;34m:\u001b[0m\u001b[0;34m\"apple\"\u001b[0m\u001b[0;34m,\u001b[0m\u001b[0;34m\"second\"\u001b[0m\u001b[0;34m:\u001b[0m\u001b[0;34m\"mango\"\u001b[0m\u001b[0;34m,\u001b[0m\u001b[0;34m\"third\"\u001b[0m\u001b[0;34m:\u001b[0m\u001b[0;34m\"grapes\"\u001b[0m\u001b[0;34m}\u001b[0m\u001b[0;34m\u001b[0m\u001b[0;34m\u001b[0m\u001b[0m\n\u001b[0;32m----> 2\u001b[0;31m \u001b[0mfruits\u001b[0m\u001b[0;34m[\u001b[0m\u001b[0;36m1\u001b[0m\u001b[0;34m]\u001b[0m\u001b[0;34m\u001b[0m\u001b[0;34m\u001b[0m\u001b[0m\n\u001b[0m",
      "\u001b[0;31mKeyError\u001b[0m: 1"
     ]
    }
   ],
   "source": [
    "fruits = {\"first\":\"apple\",\"second\":\"mango\",\"third\":\"grapes\"}\n",
    "fruits[1]"
   ]
  },
  {
   "cell_type": "code",
   "execution_count": 2,
   "id": "8bc450d6",
   "metadata": {},
   "outputs": [
    {
     "name": "stdout",
     "output_type": "stream",
     "text": [
      "len greater than or equal to 5\n"
     ]
    }
   ],
   "source": [
    "import re\n",
    "str=\"python shell\"\n",
    "if re.search(\".....\",str):\n",
    "    print(\"len greater than or equal to 5\")"
   ]
  },
  {
   "cell_type": "code",
   "execution_count": 7,
   "id": "42db102a",
   "metadata": {},
   "outputs": [
    {
     "name": "stdout",
     "output_type": "stream",
     "text": [
      "['shubhamg199630@gmail.com', 'priya@yahoo.com']\n"
     ]
    }
   ],
   "source": [
    "# Python program to extract emails From\n",
    "# the String By Regular Expression.\n",
    "\n",
    "# Importing module required for regular\n",
    "# expressions\n",
    "import re\n",
    "\n",
    "# Example string\n",
    "s = \"\"\"Hello from shubhamg199630@gmail.com\n",
    "\t\tto priya@yahoo.com about the meeting @2PM\"\"\"\n",
    "\n",
    "# \\S matches any non-whitespace character\n",
    "# @ for as in the Email\n",
    "# + for Repeats a character one or more times\n",
    "lst = re.findall(r'\\S+@\\S+', s)\t\n",
    "\n",
    "# Printing of List\n",
    "print(lst)\n",
    "\n",
    "\n",
    "\n",
    "\n",
    "\n",
    "\n"
   ]
  },
  {
   "cell_type": "code",
   "execution_count": 6,
   "id": "971d2633",
   "metadata": {},
   "outputs": [
    {
     "name": "stdout",
     "output_type": "stream",
     "text": [
      "Valid Email\n",
      "Valid Email\n",
      "Invalid Email\n"
     ]
    }
   ],
   "source": [
    "# Python program to validate an Email\n",
    "\n",
    "# import re module\n",
    "\n",
    "# re module provides support\n",
    "# for regular expressions\n",
    "import re\n",
    "\n",
    "# Make a regular expression\n",
    "# for validating an Email\n",
    "regex = r'[A-Za-z0-9._%+-]+@[A-Za-z0-9.-]+\\.[A-Z|a-z]{2,}'\n",
    "\n",
    "# Define a function for\n",
    "# for validating an Email\n",
    "\n",
    "\n",
    "def check(email):\n",
    "\n",
    "\t# pass the regular expression\n",
    "\t# and the string into the fullmatch() method\n",
    "\tif(re.fullmatch(regex, email)):\n",
    "\t\tprint(\"Valid Email\")\n",
    "\n",
    "\telse:\n",
    "\t\tprint(\"Invalid Email\")\n",
    "\n",
    "\n",
    "# Driver Code\n",
    "if __name__ == '__main__':\n",
    "\n",
    "\t# Enter the email\n",
    "\temail = \"ankitrai326@gmail.com\"\n",
    "\n",
    "\t# calling run function\n",
    "\tcheck(email)\n",
    "\n",
    "\temail = \"my.ownsite@our-earth.org\"\n",
    "\tcheck(email)\n",
    "\n",
    "\temail = \"ankitrai326.com\"\n",
    "\tcheck(email)\n"
   ]
  },
  {
   "cell_type": "code",
   "execution_count": 16,
   "id": "9c1d98e2",
   "metadata": {},
   "outputs": [
    {
     "name": "stdout",
     "output_type": "stream",
     "text": [
      "<class 'str'>\n",
      "<class 'str'>\n",
      "<class 'str'>\n"
     ]
    }
   ],
   "source": [
    "import re\n",
    "for i in re.finditer(r'[a-zA-Z]+ing',\"walking down thw road he was thinking about coming years\"):\n",
    "    print(type(i.group()))"
   ]
  },
  {
   "cell_type": "code",
   "execution_count": 17,
   "id": "99a8e505",
   "metadata": {},
   "outputs": [
    {
     "data": {
      "text/plain": [
       "list"
      ]
     },
     "execution_count": 17,
     "metadata": {},
     "output_type": "execute_result"
    }
   ],
   "source": [
    "import re\n",
    "type(re.findall(r'[a-zA-Z]+ing',\"walking down thw road he was thinking about coming years\"))\n"
   ]
  },
  {
   "cell_type": "code",
   "execution_count": 6,
   "id": "f599556a",
   "metadata": {},
   "outputs": [
    {
     "data": {
      "text/plain": [
       "[1, 8, 27, 64, 125, 216, 343, 512, 729, 1000]"
      ]
     },
     "execution_count": 6,
     "metadata": {},
     "output_type": "execute_result"
    }
   ],
   "source": [
    "cubes = []\n",
    "end = 10\n",
    "for i in range (1, end+1):\n",
    "    cubes.append(i ** 3)\n",
    "cubes"
   ]
  },
  {
   "cell_type": "code",
   "execution_count": 8,
   "id": "3c770ce0",
   "metadata": {},
   "outputs": [
    {
     "data": {
      "text/plain": [
       "[1, 8, 27, 64, 125, 216, 343, 512, 729, 1000]"
      ]
     },
     "execution_count": 8,
     "metadata": {},
     "output_type": "execute_result"
    }
   ],
   "source": [
    "cubes = [x**3 for x in range(1,11)]\n",
    "cubes"
   ]
  },
  {
   "cell_type": "code",
   "execution_count": 10,
   "id": "c9a0b22b",
   "metadata": {},
   "outputs": [
    {
     "data": {
      "text/plain": [
       "[1, 4, 9, 16, 25, 36, 49, 64]"
      ]
     },
     "execution_count": 10,
     "metadata": {},
     "output_type": "execute_result"
    }
   ],
   "source": [
    "squares = [x**2 for x in range(1,9)]\n",
    "squares"
   ]
  },
  {
   "cell_type": "code",
   "execution_count": 11,
   "id": "90945416",
   "metadata": {},
   "outputs": [
    {
     "data": {
      "text/plain": [
       "[['rama', 160], ['gopi', 280]]"
      ]
     },
     "execution_count": 11,
     "metadata": {},
     "output_type": "execute_result"
    }
   ],
   "source": [
    "l = [['rama',160],['shyama',304],['gopi',280],['ravi',301]]\n",
    "threshold = 300\n",
    "tall = [x for x in l if x[1]<=threshold]\n",
    "tall"
   ]
  },
  {
   "cell_type": "code",
   "execution_count": 17,
   "id": "e0272ed2",
   "metadata": {},
   "outputs": [
    {
     "data": {
      "text/plain": [
       "[80000, 150000]"
      ]
     },
     "execution_count": 17,
     "metadata": {},
     "output_type": "execute_result"
    }
   ],
   "source": [
    "sal = [20000,80000,35000,35000,150000]\n",
    "limit = 50000\n",
    "taxpayers = [x for x in sal if x>=limit]\n",
    "taxpayers"
   ]
  },
  {
   "cell_type": "code",
   "execution_count": 18,
   "id": "73776b26",
   "metadata": {},
   "outputs": [
    {
     "data": {
      "text/plain": [
       "[['a', 1],\n",
       " ['a', 2],\n",
       " ['a', 3],\n",
       " ['a', 4],\n",
       " ['b', 1],\n",
       " ['b', 2],\n",
       " ['b', 3],\n",
       " ['b', 4],\n",
       " ['c', 1],\n",
       " ['c', 2],\n",
       " ['c', 3],\n",
       " ['c', 4],\n",
       " ['d', 1],\n",
       " ['d', 2],\n",
       " ['d', 3],\n",
       " ['d', 4]]"
      ]
     },
     "execution_count": 18,
     "metadata": {},
     "output_type": "execute_result"
    }
   ],
   "source": [
    "s1 = ['a','b','c','d']\n",
    "s2 = [1,2,3,4]\n",
    "cp = [[x,y] for x in s1 for y in s2]\n",
    "cp"
   ]
  },
  {
   "cell_type": "code",
   "execution_count": 19,
   "id": "f426a034",
   "metadata": {},
   "outputs": [
    {
     "data": {
      "text/plain": [
       "[['jones', 23],\n",
       " ['jones', 30],\n",
       " ['jones', 32],\n",
       " ['jones', 35],\n",
       " ['mary', 23],\n",
       " ['mary', 30],\n",
       " ['mary', 32],\n",
       " ['mary', 35],\n",
       " ['david', 23],\n",
       " ['david', 30],\n",
       " ['david', 32],\n",
       " ['david', 35],\n",
       " ['kim', 23],\n",
       " ['kim', 30],\n",
       " ['kim', 32],\n",
       " ['kim', 35]]"
      ]
     },
     "execution_count": 19,
     "metadata": {},
     "output_type": "execute_result"
    }
   ],
   "source": [
    "names = ['jones','mary','david','kim']\n",
    "ages = [23,30,32,35]\n",
    "cp  = [[x,y] for x in names for y in ages]\n",
    "cp"
   ]
  },
  {
   "cell_type": "code",
   "execution_count": 29,
   "id": "bc99f129",
   "metadata": {},
   "outputs": [
    {
     "name": "stdout",
     "output_type": "stream",
     "text": [
      "[15, 20, 30]\n"
     ]
    }
   ],
   "source": [
    "def lstUpdate(a,i,val):\n",
    "    a[i]=val\n",
    "    \n",
    "def main():\n",
    "    lst = [10,20,30]\n",
    "    lstUpdate(lst,0,15)\n",
    "    print(lst)\n",
    "    \n",
    "if __name__=='__main__':\n",
    "    main()\n",
    "    "
   ]
  },
  {
   "cell_type": "code",
   "execution_count": 5,
   "id": "3c556870",
   "metadata": {},
   "outputs": [
    {
     "data": {
      "text/plain": [
       "'akipeed'"
      ]
     },
     "execution_count": 5,
     "metadata": {},
     "output_type": "execute_result"
    }
   ],
   "source": [
    "def reverse(str):\n",
    "    if str==\"\":\n",
    "        return \"\"\n",
    "    else:\n",
    "        return reverse(str[1:])+str[0]\n",
    "\n",
    "    \n",
    "reverse(\"deepika\")"
   ]
  },
  {
   "cell_type": "code",
   "execution_count": 74,
   "id": "bf9ec674",
   "metadata": {},
   "outputs": [],
   "source": [
    "def rev(str):\n",
    "    if str==\"\":\n",
    "        return \"\"\n",
    "    else:\n",
    "        #print(str)\n",
    "        #print(str[len(str)-1],end=\"\")\n",
    "        return (rev(str[0:len(str)-1]))\n",
    "    \n"
   ]
  },
  {
   "cell_type": "code",
   "execution_count": 75,
   "id": "5051c259",
   "metadata": {},
   "outputs": [
    {
     "name": "stdout",
     "output_type": "stream",
     "text": [
      "0\n",
      "5\n"
     ]
    },
    {
     "data": {
      "text/plain": [
       "'not a palindrome'"
      ]
     },
     "execution_count": 75,
     "metadata": {},
     "output_type": "execute_result"
    }
   ],
   "source": [
    "def palindrome(str):\n",
    "    print(len(rev(str)))\n",
    "    print(len(str))\n",
    "    if rev(str)==str:\n",
    "        return \"palindrome\"\n",
    "    else:\n",
    "        return \"not a palindrome\"\n",
    "\n",
    "    \n",
    "palindrome(\"madam\")"
   ]
  },
  {
   "cell_type": "code",
   "execution_count": 79,
   "id": "c04a2641",
   "metadata": {},
   "outputs": [
    {
     "name": "stdout",
     "output_type": "stream",
     "text": [
      "Hello, My name is depika and I'm 33 years old.\n"
     ]
    }
   ],
   "source": [
    "name = 'depika'\n",
    "age = 33\n",
    "print(f\"Hello, My name is {name} and I'm {age} years old.\")"
   ]
  },
  {
   "cell_type": "code",
   "execution_count": 78,
   "id": "79cd3f3d",
   "metadata": {},
   "outputs": [
    {
     "name": "stdout",
     "output_type": "stream",
     "text": [
      "your answer is python fstrings\n"
     ]
    }
   ],
   "source": [
    "answer = \"python fstrings\"\n",
    "print(f\"your answer is {answer}\")"
   ]
  },
  {
   "cell_type": "code",
   "execution_count": 5,
   "id": "5985b736",
   "metadata": {},
   "outputs": [
    {
     "name": "stdout",
     "output_type": "stream",
     "text": [
      "hell\n"
     ]
    }
   ],
   "source": [
    "s = \"hello\"\n",
    "print(s[:4])"
   ]
  },
  {
   "cell_type": "code",
   "execution_count": 12,
   "id": "66bc391d",
   "metadata": {},
   "outputs": [
    {
     "name": "stdout",
     "output_type": "stream",
     "text": [
      "0\n",
      "2\n",
      "4\n"
     ]
    }
   ],
   "source": [
    "for i in range(0,5,2):\n",
    "    print(i)"
   ]
  },
  {
   "cell_type": "code",
   "execution_count": 18,
   "id": "2c53a81a",
   "metadata": {},
   "outputs": [
    {
     "name": "stdout",
     "output_type": "stream",
     "text": [
      "140363361021312\n",
      "140363361077824\n"
     ]
    }
   ],
   "source": [
    "import copy as cp\n",
    "lst1 =[1,2,[3,4]]\n",
    "lst2 = cp.deepcopy(lst1)\n",
    "print(id(lst1[2]))\n",
    "print(id(lst2[2]))"
   ]
  },
  {
   "cell_type": "code",
   "execution_count": 38,
   "id": "75f51e68",
   "metadata": {},
   "outputs": [
    {
     "name": "stdout",
     "output_type": "stream",
     "text": [
      "0\n",
      "pyth\n",
      "4\n",
      "on c\n"
     ]
    }
   ],
   "source": [
    "f = open(\"pythonFile\",\"w\")\n",
    "f.write(\"python code\")\n",
    "f.close()\n",
    "f=open(\"pythonFile\",\"r\")\n",
    "print(f.tell())\n",
    "print(f.read(4))\n",
    "print(f.tell())\n",
    "print(f.read(4))"
   ]
  },
  {
   "cell_type": "code",
   "execution_count": 11,
   "id": "6096a985",
   "metadata": {},
   "outputs": [
    {
     "name": "stdout",
     "output_type": "stream",
     "text": [
      "deepika is 33 years old and achieved 501.30 marks\n",
      "depika is a good python coder\n",
      "12  \n"
     ]
    }
   ],
   "source": [
    "print(\"%s is %d years old and achieved %0.2f marks\" % (\"deepika\",33,501.30))\n",
    "#inject values in a string\n",
    "name=\"depika\"\n",
    "print(f\"{name} is a good python coder\") #fstrings\n",
    "print(\"%-4d\" %(12))"
   ]
  },
  {
   "cell_type": "code",
   "execution_count": 19,
   "id": "fee52990",
   "metadata": {},
   "outputs": [
    {
     "name": "stdout",
     "output_type": "stream",
     "text": [
      "minimum percentage is 60.00%\n"
     ]
    }
   ],
   "source": [
    "print(\"minimum percentage is {per:.2f}%\".format(per=60))"
   ]
  },
  {
   "cell_type": "code",
   "execution_count": 18,
   "id": "73414e1a",
   "metadata": {},
   "outputs": [
    {
     "name": "stdout",
     "output_type": "stream",
     "text": [
      "Percentage: 12%\n"
     ]
    }
   ],
   "source": [
    "percent = 12\n",
    "print (\"Percentage: {}%\".format(percent))"
   ]
  },
  {
   "cell_type": "code",
   "execution_count": 21,
   "id": "509bf030",
   "metadata": {},
   "outputs": [
    {
     "name": "stdout",
     "output_type": "stream",
     "text": [
      "one dollar value is 80@\n"
     ]
    }
   ],
   "source": [
    "print(\"one dollar value is {rupee:}@\".format(rupee=80))"
   ]
  },
  {
   "cell_type": "code",
   "execution_count": 25,
   "id": "29c6c195",
   "metadata": {},
   "outputs": [
    {
     "name": "stdout",
     "output_type": "stream",
     "text": [
      "Formatted Number with percentage: -25.00%\n"
     ]
    }
   ],
   "source": [
    "y = -0.25\n",
    "print(\"Formatted Number with percentage: {:.2%}\".format(y))"
   ]
  },
  {
   "cell_type": "code",
   "execution_count": 28,
   "id": "1b0bcf75",
   "metadata": {},
   "outputs": [
    {
     "name": "stdout",
     "output_type": "stream",
     "text": [
      "one dollar value 80.00$\n"
     ]
    }
   ],
   "source": [
    "rupee = 80\n",
    "print(\"one dollar value {:.2f}$\".format(rupee))"
   ]
  },
  {
   "cell_type": "code",
   "execution_count": 37,
   "id": "dece9405",
   "metadata": {},
   "outputs": [
    {
     "name": "stdout",
     "output_type": "stream",
     "text": [
      "for only 45.00\n"
     ]
    }
   ],
   "source": [
    "price = 45\n",
    "print(\"for only {:.2f}\".format(price))"
   ]
  },
  {
   "cell_type": "code",
   "execution_count": 38,
   "id": "94f96577",
   "metadata": {},
   "outputs": [
    {
     "name": "stdout",
     "output_type": "stream",
     "text": [
      "max percentage is 90.00%\n"
     ]
    }
   ],
   "source": [
    "per = 90\n",
    "print(\"max percentage is {:0.2f}%\".format(per))"
   ]
  },
  {
   "cell_type": "code",
   "execution_count": 41,
   "id": "bb278cad",
   "metadata": {},
   "outputs": [
    {
     "ename": "TypeError",
     "evalue": "float() argument must be a string or a number, not 'list'",
     "output_type": "error",
     "traceback": [
      "\u001b[0;31m---------------------------------------------------------------------------\u001b[0m",
      "\u001b[0;31mTypeError\u001b[0m                                 Traceback (most recent call last)",
      "\u001b[0;32m/tmp/ipykernel_3083/1016046824.py\u001b[0m in \u001b[0;36m<module>\u001b[0;34m\u001b[0m\n\u001b[0;32m----> 1\u001b[0;31m \u001b[0mfloat\u001b[0m\u001b[0;34m(\u001b[0m\u001b[0;34m[\u001b[0m\u001b[0;36m5\u001b[0m\u001b[0;34m]\u001b[0m\u001b[0;34m)\u001b[0m\u001b[0;34m\u001b[0m\u001b[0;34m\u001b[0m\u001b[0m\n\u001b[0m",
      "\u001b[0;31mTypeError\u001b[0m: float() argument must be a string or a number, not 'list'"
     ]
    }
   ],
   "source": [
    "float([5]),,"
   ]
  },
  {
   "cell_type": "code",
   "execution_count": null,
   "id": "695f99c2",
   "metadata": {},
   "outputs": [],
   "source": []
  }
 ],
 "metadata": {
  "kernelspec": {
   "display_name": "Python 3 (ipykernel)",
   "language": "python",
   "name": "python3"
  },
  "language_info": {
   "codemirror_mode": {
    "name": "ipython",
    "version": 3
   },
   "file_extension": ".py",
   "mimetype": "text/x-python",
   "name": "python",
   "nbconvert_exporter": "python",
   "pygments_lexer": "ipython3",
   "version": "3.9.5"
  }
 },
 "nbformat": 4,
 "nbformat_minor": 5
}
