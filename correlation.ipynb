{
 "cells": [
  {
   "cell_type": "code",
   "execution_count": 1,
   "id": "594d445f",
   "metadata": {},
   "outputs": [],
   "source": [
    "import pandas as pd\n",
    "df1 = pd.DataFrame({\"cars\":[\"Ferrari\",\"BMW\",\"Lamborgini\",\"Ford\"],\n",
    "                    \"wt\": [309,500,400,350],\n",
    "                   \"mpg\":[100,120,230,350],\n",
    "                   \"price\":[5000,8000,10000,12000],\n",
    "                   \"drive\":[\"forward-wheel\",\"rear-wheel\",\"rear-wheel\",\"forward-wheel\"],\n",
    "                   \"type\":[\"goods-utility\",\"suv\",\"sports\",\"general\"]})"
   ]
  },
  {
   "cell_type": "code",
   "execution_count": 14,
   "id": "f5282711",
   "metadata": {},
   "outputs": [
    {
     "data": {
      "text/html": [
       "<div>\n",
       "<style scoped>\n",
       "    .dataframe tbody tr th:only-of-type {\n",
       "        vertical-align: middle;\n",
       "    }\n",
       "\n",
       "    .dataframe tbody tr th {\n",
       "        vertical-align: top;\n",
       "    }\n",
       "\n",
       "    .dataframe thead th {\n",
       "        text-align: right;\n",
       "    }\n",
       "</style>\n",
       "<table border=\"1\" class=\"dataframe\">\n",
       "  <thead>\n",
       "    <tr style=\"text-align: right;\">\n",
       "      <th></th>\n",
       "      <th>cars</th>\n",
       "      <th>wt</th>\n",
       "      <th>mpg</th>\n",
       "      <th>price</th>\n",
       "      <th>drive</th>\n",
       "      <th>type</th>\n",
       "    </tr>\n",
       "  </thead>\n",
       "  <tbody>\n",
       "    <tr>\n",
       "      <th>0</th>\n",
       "      <td>Ferrari</td>\n",
       "      <td>309</td>\n",
       "      <td>100</td>\n",
       "      <td>5000</td>\n",
       "      <td>forward-wheel</td>\n",
       "      <td>goods-utility</td>\n",
       "    </tr>\n",
       "    <tr>\n",
       "      <th>1</th>\n",
       "      <td>BMW</td>\n",
       "      <td>500</td>\n",
       "      <td>120</td>\n",
       "      <td>8000</td>\n",
       "      <td>rear-wheel</td>\n",
       "      <td>suv</td>\n",
       "    </tr>\n",
       "    <tr>\n",
       "      <th>2</th>\n",
       "      <td>Lamborgini</td>\n",
       "      <td>400</td>\n",
       "      <td>230</td>\n",
       "      <td>10000</td>\n",
       "      <td>rear-wheel</td>\n",
       "      <td>sports</td>\n",
       "    </tr>\n",
       "    <tr>\n",
       "      <th>3</th>\n",
       "      <td>Ford</td>\n",
       "      <td>350</td>\n",
       "      <td>350</td>\n",
       "      <td>12000</td>\n",
       "      <td>forward-wheel</td>\n",
       "      <td>general</td>\n",
       "    </tr>\n",
       "  </tbody>\n",
       "</table>\n",
       "</div>"
      ],
      "text/plain": [
       "         cars   wt  mpg  price          drive           type\n",
       "0     Ferrari  309  100   5000  forward-wheel  goods-utility\n",
       "1         BMW  500  120   8000     rear-wheel            suv\n",
       "2  Lamborgini  400  230  10000     rear-wheel         sports\n",
       "3        Ford  350  350  12000  forward-wheel        general"
      ]
     },
     "execution_count": 14,
     "metadata": {},
     "output_type": "execute_result"
    }
   ],
   "source": [
    "df1"
   ]
  },
  {
   "cell_type": "code",
   "execution_count": 18,
   "id": "eb28075e",
   "metadata": {},
   "outputs": [],
   "source": [
    "import scipy\n",
    "cross_tab = pd.crosstab(df1[\"drive\"],df1[\"type\"])"
   ]
  },
  {
   "cell_type": "code",
   "execution_count": 20,
   "id": "147bb858",
   "metadata": {},
   "outputs": [
    {
     "data": {
      "text/plain": [
       "(4.0,\n",
       " 0.26146412994911117,\n",
       " 3,\n",
       " array([[0.5, 0.5, 0.5, 0.5],\n",
       "        [0.5, 0.5, 0.5, 0.5]]))"
      ]
     },
     "execution_count": 20,
     "metadata": {},
     "output_type": "execute_result"
    }
   ],
   "source": [
    "stats.chi2_contingency(cross_tab)"
   ]
  },
  {
   "cell_type": "code",
   "execution_count": null,
   "id": "c48bfff7",
   "metadata": {},
   "outputs": [],
   "source": []
  }
 ],
 "metadata": {
  "kernelspec": {
   "display_name": "Python 3 (ipykernel)",
   "language": "python",
   "name": "python3"
  },
  "language_info": {
   "codemirror_mode": {
    "name": "ipython",
    "version": 3
   },
   "file_extension": ".py",
   "mimetype": "text/x-python",
   "name": "python",
   "nbconvert_exporter": "python",
   "pygments_lexer": "ipython3",
   "version": "3.9.5"
  }
 },
 "nbformat": 4,
 "nbformat_minor": 5
}
