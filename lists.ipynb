{
 "cells": [
  {
   "cell_type": "code",
   "execution_count": 64,
   "id": "80b047c2",
   "metadata": {},
   "outputs": [
    {
     "data": {
      "text/plain": [
       "[['mary', 25000],\n",
       " ['tom', 20000.0],\n",
       " ['kathy', 45000],\n",
       " ['mathew', 68000.9],\n",
       " ['zubin', 100000.0],\n",
       " 'barbara',\n",
       " 'kim']"
      ]
     },
     "execution_count": 64,
     "metadata": {},
     "output_type": "execute_result"
    }
   ],
   "source": [
    "names=[\"mary\",\"tom\",\"kathy\",\"mathew\",\"john\",\"sophie\"]\n",
    "people=names\n",
    "emp=[[\"mary\",25000],[\"tom\",20000.00],[\"kathy\",45000],[\"mathew\",68000.900],[\"zubin\",100000.0]]\n",
    "names=names+[\"george\",\"hummus\"]\n",
    "#lists can be non homegenous\n",
    "'''len(names)\n",
    "max(emp)\n",
    "[\"mary\",25000] in emp\n",
    "for i in emp:\n",
    "    print(i)\n",
    "'''\n",
    "emp.extend([\"barbara\",\"kim\"])\n",
    "emp"
   ]
  },
  {
   "cell_type": "code",
   "execution_count": 48,
   "id": "c989781f",
   "metadata": {},
   "outputs": [
    {
     "data": {
      "text/plain": [
       "True"
      ]
     },
     "execution_count": 48,
     "metadata": {},
     "output_type": "execute_result"
    }
   ],
   "source": [
    "names=[\"mary\",\"tom\",\"kathy\",\"mathew\",\"john\",\"sophie\"]\n",
    "len(names)\n",
    "names[::2]\n",
    "max(names)\n",
    "\"kathy\" in names"
   ]
  },
  {
   "cell_type": "code",
   "execution_count": 47,
   "id": "da413754",
   "metadata": {},
   "outputs": [
    {
     "data": {
      "text/plain": [
       "420"
      ]
     },
     "execution_count": 47,
     "metadata": {},
     "output_type": "execute_result"
    }
   ],
   "source": [
    "marks=[25,60,80,90,50,70,45]\n",
    "sum(marks)"
   ]
  },
  {
   "cell_type": "code",
   "execution_count": 56,
   "id": "c0203ef5",
   "metadata": {},
   "outputs": [
    {
     "data": {
      "text/plain": [
       "['a', 'e', 'i', 'o', 'u']"
      ]
     },
     "execution_count": 56,
     "metadata": {},
     "output_type": "execute_result"
    }
   ],
   "source": [
    "vowels=\"aeiou\"\n",
    "list(vowels)\n"
   ]
  },
  {
   "cell_type": "code",
   "execution_count": 77,
   "id": "08a2a19e",
   "metadata": {},
   "outputs": [
    {
     "data": {
      "text/plain": [
       "[12, 78, 45, 33, 50, 1, 2, 3, 3, 3]"
      ]
     },
     "execution_count": 77,
     "metadata": {},
     "output_type": "execute_result"
    }
   ],
   "source": [
    "a=[12,10,78,90,45,33]\n",
    "a.append(50)\n",
    "a\n",
    "a.extend([1,2,3,3,3,3])\n",
    "a.count(3)\n",
    "a.pop(3)\n",
    "a\n",
    "#pop returns the element whose index is passed as an argument, while removing it from the list\n",
    "a.remove(3)\n",
    "a.remove(10)\n",
    "a\n",
    "#remove takes the value to be removed from the list and removes FIRST occurence of that value from the list"
   ]
  },
  {
   "cell_type": "code",
   "execution_count": 82,
   "id": "f870c0b5",
   "metadata": {},
   "outputs": [
    {
     "data": {
      "text/plain": [
       "[12, 78, 90, 45, 33, 50]"
      ]
     },
     "execution_count": 82,
     "metadata": {},
     "output_type": "execute_result"
    }
   ],
   "source": [
    "a=[12,10,78,90,45,33]\n",
    "a.append(50)\n",
    "a.pop(a.index(10))\n",
    "a"
   ]
  },
  {
   "cell_type": "code",
   "execution_count": 96,
   "id": "e6bf2be3",
   "metadata": {},
   "outputs": [
    {
     "ename": "NameError",
     "evalue": "name 'a' is not defined",
     "output_type": "error",
     "traceback": [
      "\u001b[0;31m---------------------------------------------------------------------------\u001b[0m",
      "\u001b[0;31mNameError\u001b[0m                                 Traceback (most recent call last)",
      "\u001b[0;32m/tmp/ipykernel_3279/3842497213.py\u001b[0m in \u001b[0;36m<module>\u001b[0;34m\u001b[0m\n\u001b[1;32m      5\u001b[0m \u001b[0;32mdel\u001b[0m \u001b[0ma\u001b[0m\u001b[0;34m\u001b[0m\u001b[0;34m\u001b[0m\u001b[0m\n\u001b[1;32m      6\u001b[0m \u001b[0mb\u001b[0m\u001b[0;34m\u001b[0m\u001b[0;34m\u001b[0m\u001b[0m\n\u001b[0;32m----> 7\u001b[0;31m \u001b[0ma\u001b[0m\u001b[0;34m\u001b[0m\u001b[0;34m\u001b[0m\u001b[0m\n\u001b[0m",
      "\u001b[0;31mNameError\u001b[0m: name 'a' is not defined"
     ]
    }
   ],
   "source": [
    "a=[12,10,78,90,45,33,50]\n",
    "#a.append(50)\n",
    "del a[::3]\n",
    "b = a\n",
    "del a\n",
    "b"
   ]
  },
  {
   "cell_type": "code",
   "execution_count": 110,
   "id": "fbcb35d8",
   "metadata": {},
   "outputs": [
    {
     "data": {
      "text/plain": [
       "['apple', 'avocado', 'banana', 'cherry', 'fig', 'grapes']"
      ]
     },
     "execution_count": 110,
     "metadata": {},
     "output_type": "execute_result"
    }
   ],
   "source": [
    "fruits = [\"apple\",\"banana\",\"cherry\",\"fig\",\"grapes\"]\n",
    "fruits.insert(1,\"avocado\")\n",
    "fruits\n",
    "fruits.reverse()\n",
    "fruits.append(\"jackfruit\")\n",
    "fruits.reverse()\n",
    "fruits\n",
    "fruits.pop(0)\n",
    "fruits"
   ]
  },
  {
   "cell_type": "code",
   "execution_count": 121,
   "id": "675cb927",
   "metadata": {},
   "outputs": [
    {
     "data": {
      "text/plain": [
       "['usa',\n",
       " 'india',\n",
       " 'france',\n",
       " 'canada',\n",
       " 'bhutan',\n",
       " 'germany',\n",
       " 'bangladesh',\n",
       " 'kenya',\n",
       " 'cuba',\n",
       " 'libya',\n",
       " 'newzealand']"
      ]
     },
     "execution_count": 121,
     "metadata": {},
     "output_type": "execute_result"
    }
   ],
   "source": [
    "countries=[\"bangladesh\",\"germany\",\"france\",\"bhutan\",\"india\",\"canada\",\"usa\"]\n",
    "countries.sort()\n",
    "countries.sort(reverse=True)\n",
    "countries.sort(key=len)\n",
    "countries.extend([\"kenya\",\"cuba\",\"libya\",\"newzealand\"])\n",
    "countries.index(\"usa\")\n",
    "countries"
   ]
  },
  {
   "cell_type": "code",
   "execution_count": 2,
   "id": "45e79907",
   "metadata": {},
   "outputs": [
    {
     "data": {
      "text/plain": [
       "[1, 4, 9, 16]"
      ]
     },
     "execution_count": 2,
     "metadata": {},
     "output_type": "execute_result"
    }
   ],
   "source": [
    "x = [i**2 for i in range(1,5)]\n",
    "x"
   ]
  },
  {
   "cell_type": "code",
   "execution_count": null,
   "id": "d9a7a5cb",
   "metadata": {},
   "outputs": [],
   "source": []
  }
 ],
 "metadata": {
  "kernelspec": {
   "display_name": "Python 3 (ipykernel)",
   "language": "python",
   "name": "python3"
  },
  "language_info": {
   "codemirror_mode": {
    "name": "ipython",
    "version": 3
   },
   "file_extension": ".py",
   "mimetype": "text/x-python",
   "name": "python",
   "nbconvert_exporter": "python",
   "pygments_lexer": "ipython3",
   "version": "3.9.5"
  }
 },
 "nbformat": 4,
 "nbformat_minor": 5
}
