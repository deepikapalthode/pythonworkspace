{
 "cells": [
  {
   "cell_type": "code",
   "execution_count": 9,
   "id": "28c17e05",
   "metadata": {},
   "outputs": [
    {
     "data": {
      "text/plain": [
       "14"
      ]
     },
     "execution_count": 9,
     "metadata": {},
     "output_type": "execute_result"
    }
   ],
   "source": [
    "f = open(\"pythonFile\",\"w\")\n",
    "f.write(\"python is good\")\n",
    "f.close()\n",
    "f = open(\"pythonFile\",\"r\")\n",
    "f.readline() #reads line upto \\n\n",
    "f.seek(0)\n",
    "f.readlines() #reads multiple lines and returns list\n",
    "f.tell()\n",
    "#python file writing starts at 0 position"
   ]
  },
  {
   "cell_type": "code",
   "execution_count": 17,
   "id": "cdb1cc90",
   "metadata": {},
   "outputs": [],
   "source": [
    "file = open(\"filesInPython\",\"w\")\n",
    "lst = [\"hello good morning \",\"bonjour \",\"sir \",\"monssieur \",\"madam \",\"madamme\"]\n",
    "file.writelines(lst)\n",
    "file = open(\"filesInPython\",\"r\")\n",
    "data = file.read()\n",
    "cpfile = open(\"copyPythonFile\",\"w\")\n",
    "cpfile.write(data)\n",
    "file.close()\n",
    "cpfile.close()"
   ]
  },
  {
   "cell_type": "code",
   "execution_count": null,
   "id": "b59a438f",
   "metadata": {},
   "outputs": [],
   "source": []
  }
 ],
 "metadata": {
  "kernelspec": {
   "display_name": "Python 3 (ipykernel)",
   "language": "python",
   "name": "python3"
  },
  "language_info": {
   "codemirror_mode": {
    "name": "ipython",
    "version": 3
   },
   "file_extension": ".py",
   "mimetype": "text/x-python",
   "name": "python",
   "nbconvert_exporter": "python",
   "pygments_lexer": "ipython3",
   "version": "3.9.5"
  }
 },
 "nbformat": 4,
 "nbformat_minor": 5
}
