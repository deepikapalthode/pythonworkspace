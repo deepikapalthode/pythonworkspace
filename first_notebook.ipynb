{
 "cells": [
  {
   "cell_type": "code",
   "execution_count": 1,
   "id": "f91fe510",
   "metadata": {},
   "outputs": [
    {
     "data": {
      "text/plain": [
       "11"
      ]
     },
     "execution_count": 1,
     "metadata": {},
     "output_type": "execute_result"
    }
   ],
   "source": [
    "5+6"
   ]
  },
  {
   "cell_type": "code",
   "execution_count": 3,
   "id": "b397fb53",
   "metadata": {},
   "outputs": [],
   "source": [
    "def areaRect(length,breadth):\n",
    "    area = length*breadth\n",
    "    return area\n",
    "\n",
    "def areaSquare(side = 10):\n",
    "    return side*side\n",
    "\n",
    "def main():\n",
    "    print('enter length and breadth for rectangle')\n",
    "    '''length=float(input('enter length'))\n",
    "    breadth=float(input('enter breadth'))\n",
    "    print('area of rectanle is', areaRect(length, breadth))'''\n",
    "    print('area of default sqaure is', areaSquare())\n",
    "    \n",
    "    \n"
   ]
  },
  {
   "cell_type": "code",
   "execution_count": 3,
   "id": "f213a506",
   "metadata": {},
   "outputs": [
    {
     "name": "stdin",
     "output_type": "stream",
     "text": [
      "enter maximum marks 400\n",
      "enter marks -5\n"
     ]
    },
    {
     "ename": "AssertionError",
     "evalue": "",
     "output_type": "error",
     "traceback": [
      "\u001b[0;31m---------------------------------------------------------------------------\u001b[0m",
      "\u001b[0;31mAssertionError\u001b[0m                            Traceback (most recent call last)",
      "\u001b[0;32m/tmp/ipykernel_2826/3790702949.py\u001b[0m in \u001b[0;36m<module>\u001b[0;34m\u001b[0m\n\u001b[1;32m     12\u001b[0m \u001b[0;34m\u001b[0m\u001b[0m\n\u001b[1;32m     13\u001b[0m \u001b[0;32mif\u001b[0m \u001b[0m__name__\u001b[0m \u001b[0;34m==\u001b[0m \u001b[0;34m'__main__'\u001b[0m\u001b[0;34m:\u001b[0m\u001b[0;34m\u001b[0m\u001b[0;34m\u001b[0m\u001b[0m\n\u001b[0;32m---> 14\u001b[0;31m     \u001b[0mmain\u001b[0m\u001b[0;34m(\u001b[0m\u001b[0;34m)\u001b[0m\u001b[0;34m\u001b[0m\u001b[0;34m\u001b[0m\u001b[0m\n\u001b[0m",
      "\u001b[0;32m/tmp/ipykernel_2826/3790702949.py\u001b[0m in \u001b[0;36mmain\u001b[0;34m()\u001b[0m\n\u001b[1;32m      7\u001b[0m     \u001b[0;32massert\u001b[0m \u001b[0mmaxMark\u001b[0m \u001b[0;34m>=\u001b[0m\u001b[0;36m0\u001b[0m \u001b[0;32mand\u001b[0m \u001b[0mmaxMark\u001b[0m\u001b[0;34m<=\u001b[0m\u001b[0;36m500\u001b[0m\u001b[0;34m\u001b[0m\u001b[0;34m\u001b[0m\u001b[0m\n\u001b[1;32m      8\u001b[0m     \u001b[0mmark\u001b[0m \u001b[0;34m=\u001b[0m \u001b[0mfloat\u001b[0m\u001b[0;34m(\u001b[0m\u001b[0minput\u001b[0m\u001b[0;34m(\u001b[0m\u001b[0;34m'enter marks'\u001b[0m\u001b[0;34m)\u001b[0m\u001b[0;34m)\u001b[0m\u001b[0;34m\u001b[0m\u001b[0;34m\u001b[0m\u001b[0m\n\u001b[0;32m----> 9\u001b[0;31m     \u001b[0;32massert\u001b[0m \u001b[0mmark\u001b[0m\u001b[0;34m>=\u001b[0m\u001b[0;36m0\u001b[0m \u001b[0;32mand\u001b[0m \u001b[0mmark\u001b[0m\u001b[0;34m<=\u001b[0m\u001b[0mmaxMark\u001b[0m\u001b[0;34m\u001b[0m\u001b[0;34m\u001b[0m\u001b[0m\n\u001b[0m\u001b[1;32m     10\u001b[0m     \u001b[0mper\u001b[0m \u001b[0;34m=\u001b[0m \u001b[0mcalPercentage\u001b[0m\u001b[0;34m(\u001b[0m\u001b[0mmark\u001b[0m\u001b[0;34m,\u001b[0m \u001b[0mmaxMark\u001b[0m\u001b[0;34m)\u001b[0m\u001b[0;34m\u001b[0m\u001b[0;34m\u001b[0m\u001b[0m\n\u001b[1;32m     11\u001b[0m     \u001b[0mprint\u001b[0m\u001b[0;34m(\u001b[0m\u001b[0;34m\"your percentage score is:\"\u001b[0m\u001b[0;34m,\u001b[0m \u001b[0mper\u001b[0m\u001b[0;34m)\u001b[0m\u001b[0;34m\u001b[0m\u001b[0;34m\u001b[0m\u001b[0m\n",
      "\u001b[0;31mAssertionError\u001b[0m: "
     ]
    }
   ],
   "source": [
    "def calPercentage(marks,maxMarks):\n",
    "    percentage = (marks/maxMarks)*100\n",
    "    return percentage\n",
    "\n",
    "def main():\n",
    "    maxMark = float(input('enter maximum marks'))\n",
    "    assert maxMark >=0 and maxMark<=500\n",
    "    mark = float(input('enter marks'))\n",
    "    assert mark>=0 and mark<=maxMark\n",
    "    per = calPercentage(mark, maxMark)\n",
    "    print(\"your percentage score is:\", per)\n",
    "    \n",
    "if __name__ == '__main__':\n",
    "    main()\n"
   ]
  },
  {
   "cell_type": "code",
   "execution_count": 18,
   "id": "b8ab9771",
   "metadata": {},
   "outputs": [
    {
     "name": "stdin",
     "output_type": "stream",
     "text": [
      "enter marks:  56\n"
     ]
    },
    {
     "name": "stdout",
     "output_type": "stream",
     "text": [
      "moderated marks 56\n"
     ]
    }
   ],
   "source": [
    "def moderate(marks, passMarks):\n",
    "    if marks == passMarks-1 or marks == passMarks-2:\n",
    "        marks=passMarks\n",
    "    return marks\n",
    "def main():\n",
    "    passMarks = 40\n",
    "    marks = input(\"enter marks: \")\n",
    "    intMarks = int(marks)\n",
    "    moderatedMarks = moderate(intMarks, passMarks)\n",
    "    print(\"moderated marks\", moderatedMarks)\n",
    "if __name__=='__main__':\n",
    "    main()\n"
   ]
  },
  {
   "cell_type": "code",
   "execution_count": 21,
   "id": "0c137971",
   "metadata": {},
   "outputs": [
    {
     "name": "stdin",
     "output_type": "stream",
     "text": [
      "enter your marks 67\n"
     ]
    },
    {
     "name": "stdout",
     "output_type": "stream",
     "text": [
      "marks: 67.0 \n",
      "Grade: C\n"
     ]
    }
   ],
   "source": [
    "def assignGrade(m):\n",
    "    if m >= 90:\n",
    "        grade = \"A\"\n",
    "    elif m >= 70:\n",
    "        grade = \"B\"\n",
    "    elif m >= 50:\n",
    "        grade = \"C\"\n",
    "    elif m >= 40:\n",
    "        grade = \"D\"\n",
    "    else : \n",
    "        grade = \"F\"\n",
    "    return grade\n",
    "        \n",
    "\n",
    "def main():\n",
    "    marks = float(input('enter your marks'))\n",
    "    print(\"marks:\",marks,\"\\nGrade:\",assignGrade(marks))\n",
    "    \n",
    "if __name__=='__main__':\n",
    "        main()\n",
    "    \n",
    "    \n",
    "    "
   ]
  },
  {
   "cell_type": "code",
   "execution_count": 35,
   "id": "bc46f6e1",
   "metadata": {},
   "outputs": [
    {
     "name": "stdin",
     "output_type": "stream",
     "text": [
      "enter first number 89\n",
      "enter second number 90\n",
      "enter third number 91\n"
     ]
    },
    {
     "name": "stdout",
     "output_type": "stream",
     "text": [
      "maximum number is: 91\n"
     ]
    }
   ],
   "source": [
    "def maximum(n1,n2,n3):\n",
    "    if n1>n2:\n",
    "        print(\"n1 is greater than n2\")\n",
    "        if n1 > n3:\n",
    "            print(\"n1 is greater than n3\")\n",
    "            maxNum = n1\n",
    "        else:\n",
    "            maxNum = n3\n",
    "    elif n2>n3:\n",
    "            print(\"n1 is greater than n2\")\n",
    "            maxNum = n2\n",
    "    else:\n",
    "            maxNum = n3\n",
    "    return maxNum         \n",
    "        \n",
    "    \n",
    "def main():\n",
    "    n1 = int(input(\"enter first number\"))\n",
    "    n2 = int(input(\"enter second number\"))\n",
    "    n3 = int(input(\"enter third number\"))\n",
    "    max = maximum(n1, n2,n3)\n",
    "    print(\"maximum number is:\",max)\n",
    "    \n",
    "if __name__==\"__main__\":\n",
    "    main()\n",
    "    "
   ]
  },
  {
   "cell_type": "code",
   "execution_count": 2,
   "id": "8cf9b460",
   "metadata": {},
   "outputs": [
    {
     "ename": "SyntaxError",
     "evalue": "EOL while scanning string literal (4237582583.py, line 8)",
     "output_type": "error",
     "traceback": [
      "\u001b[0;36m  File \u001b[0;32m\"/tmp/ipykernel_3323/4237582583.py\"\u001b[0;36m, line \u001b[0;32m8\u001b[0m\n\u001b[0;31m    n = int(input(\"enter number of terms))\u001b[0m\n\u001b[0m                                          ^\u001b[0m\n\u001b[0;31mSyntaxError\u001b[0m\u001b[0;31m:\u001b[0m EOL while scanning string literal\n"
     ]
    }
   ],
   "source": [
    "def summation(terms):\n",
    "    total = 0\n",
    "    for cnt in range(1, terms+1):\n",
    "        total += cnt\n",
    "    return total\n",
    "\n",
    "def main():\n",
    "    n = int(input(\"enter number of terms\"))\n",
    "    total = summation(n)\n",
    "    print(\"sum of first \", n , \"terms is \",total)"
   ]
  },
  {
   "cell_type": "code",
   "execution_count": null,
   "id": "93ef5a1e",
   "metadata": {},
   "outputs": [],
   "source": []
  }
 ],
 "metadata": {
  "kernelspec": {
   "display_name": "Python 3 (ipykernel)",
   "language": "python",
   "name": "python3"
  },
  "language_info": {
   "codemirror_mode": {
    "name": "ipython",
    "version": 3
   },
   "file_extension": ".py",
   "mimetype": "text/x-python",
   "name": "python",
   "nbconvert_exporter": "python",
   "pygments_lexer": "ipython3",
   "version": "3.9.5"
  }
 },
 "nbformat": 4,
 "nbformat_minor": 5
}
