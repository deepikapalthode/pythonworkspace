{
 "cells": [
  {
   "cell_type": "code",
   "execution_count": 1,
   "id": "12a6ae30",
   "metadata": {},
   "outputs": [
    {
     "data": {
      "text/plain": [
       "'python is fun'"
      ]
     },
     "execution_count": 1,
     "metadata": {},
     "output_type": "execute_result"
    }
   ],
   "source": [
    "\"python is fun\".lower()"
   ]
  },
  {
   "cell_type": "code",
   "execution_count": 2,
   "id": "f2cdac3b",
   "metadata": {},
   "outputs": [
    {
     "data": {
      "text/plain": [
       "'PYTHON IS FUN'"
      ]
     },
     "execution_count": 2,
     "metadata": {},
     "output_type": "execute_result"
    }
   ],
   "source": [
    "\"python is fun\".upper()\n"
   ]
  },
  {
   "cell_type": "code",
   "execution_count": 3,
   "id": "c8a37816",
   "metadata": {},
   "outputs": [
    {
     "data": {
      "text/plain": [
       "True"
      ]
     },
     "execution_count": 3,
     "metadata": {},
     "output_type": "execute_result"
    }
   ],
   "source": [
    "\"python is fun\".islower()"
   ]
  },
  {
   "cell_type": "code",
   "execution_count": 4,
   "id": "4079371d",
   "metadata": {},
   "outputs": [
    {
     "data": {
      "text/plain": [
       "False"
      ]
     },
     "execution_count": 4,
     "metadata": {},
     "output_type": "execute_result"
    }
   ],
   "source": [
    "\"python is fun\".isupper()"
   ]
  },
  {
   "cell_type": "code",
   "execution_count": 5,
   "id": "99365637",
   "metadata": {},
   "outputs": [
    {
     "data": {
      "text/plain": [
       "False"
      ]
     },
     "execution_count": 5,
     "metadata": {},
     "output_type": "execute_result"
    }
   ],
   "source": [
    "\"python is fun\".isupper()"
   ]
  },
  {
   "cell_type": "code",
   "execution_count": 6,
   "id": "7a8d78b2",
   "metadata": {},
   "outputs": [
    {
     "data": {
      "text/plain": [
       "True"
      ]
     },
     "execution_count": 6,
     "metadata": {},
     "output_type": "execute_result"
    }
   ],
   "source": [
    "\"python is fun\".islower()"
   ]
  },
  {
   "cell_type": "code",
   "execution_count": 7,
   "id": "9ef5c8c4",
   "metadata": {},
   "outputs": [
    {
     "data": {
      "text/plain": [
       "False"
      ]
     },
     "execution_count": 7,
     "metadata": {},
     "output_type": "execute_result"
    }
   ],
   "source": [
    "\"python is fun\".istitle()\n"
   ]
  },
  {
   "cell_type": "code",
   "execution_count": 8,
   "id": "3151d8a0",
   "metadata": {},
   "outputs": [
    {
     "data": {
      "text/plain": [
       "False"
      ]
     },
     "execution_count": 8,
     "metadata": {},
     "output_type": "execute_result"
    }
   ],
   "source": [
    "\"python is Fun\".istitle()"
   ]
  },
  {
   "cell_type": "code",
   "execution_count": 9,
   "id": "bf272c1b",
   "metadata": {},
   "outputs": [
    {
     "data": {
      "text/plain": [
       "'java is fun'"
      ]
     },
     "execution_count": 9,
     "metadata": {},
     "output_type": "execute_result"
    }
   ],
   "source": [
    "\"python is fun\".replace(\"python\",\"java\")"
   ]
  },
  {
   "cell_type": "code",
   "execution_count": 10,
   "id": "525ee351",
   "metadata": {},
   "outputs": [
    {
     "data": {
      "text/plain": [
       "'Sid is cute'"
      ]
     },
     "execution_count": 10,
     "metadata": {},
     "output_type": "execute_result"
    }
   ],
   "source": [
    "\"Sid is strong\".replace(\"strong\",\"cute\")"
   ]
  },
  {
   "cell_type": "code",
   "execution_count": 11,
   "id": "36a126ea",
   "metadata": {},
   "outputs": [
    {
     "data": {
      "text/plain": [
       "'pavan is angry man'"
      ]
     },
     "execution_count": 11,
     "metadata": {},
     "output_type": "execute_result"
    }
   ],
   "source": [
    "\"pavan is good man\".replace(\"good\",\"angry\")"
   ]
  },
  {
   "cell_type": "code",
   "execution_count": 12,
   "id": "d23b2a23",
   "metadata": {},
   "outputs": [
    {
     "data": {
      "text/plain": [
       "'eesha is sleeping  '"
      ]
     },
     "execution_count": 12,
     "metadata": {},
     "output_type": "execute_result"
    }
   ],
   "source": [
    "\"  eesha is sleeping  \".lstrip()\n"
   ]
  },
  {
   "cell_type": "code",
   "execution_count": 13,
   "id": "c0f6fef7",
   "metadata": {},
   "outputs": [
    {
     "data": {
      "text/plain": [
       "'  eesha is sleeping'"
      ]
     },
     "execution_count": 13,
     "metadata": {},
     "output_type": "execute_result"
    }
   ],
   "source": [
    "\"  eesha is sleeping  \".rstrip()"
   ]
  },
  {
   "cell_type": "code",
   "execution_count": 14,
   "id": "209f6ad6",
   "metadata": {},
   "outputs": [
    {
     "data": {
      "text/plain": [
       "'eesha is sleeping'"
      ]
     },
     "execution_count": 14,
     "metadata": {},
     "output_type": "execute_result"
    }
   ],
   "source": [
    "\"  eesha is sleeping  \".strip()"
   ]
  },
  {
   "cell_type": "code",
   "execution_count": 15,
   "id": "ff460a56",
   "metadata": {},
   "outputs": [
    {
     "data": {
      "text/plain": [
       "['apple', 'banana', 'mango', 'grapes', 'papaya', 'pineapple', 'watermelon']"
      ]
     },
     "execution_count": 15,
     "metadata": {},
     "output_type": "execute_result"
    }
   ],
   "source": [
    "\"apple,banana,mango,grapes,papaya,pineapple,watermelon\".split(\",\")"
   ]
  },
  {
   "cell_type": "code",
   "execution_count": 16,
   "id": "20401d85",
   "metadata": {},
   "outputs": [
    {
     "data": {
      "text/plain": [
       "['apple,banana,mango,grapes,papaya,pineapple,watermelon']"
      ]
     },
     "execution_count": 16,
     "metadata": {},
     "output_type": "execute_result"
    }
   ],
   "source": [
    "\"apple,banana,mango,grapes,papaya,pineapple,watermelon\".split()"
   ]
  },
  {
   "cell_type": "code",
   "execution_count": 17,
   "id": "34e2f2e5",
   "metadata": {},
   "outputs": [
    {
     "data": {
      "text/plain": [
       "['apple',\n",
       " ' banana',\n",
       " ' mango',\n",
       " ' grapes',\n",
       " ' papaya',\n",
       " ' pineapple',\n",
       " ' watermelon']"
      ]
     },
     "execution_count": 17,
     "metadata": {},
     "output_type": "execute_result"
    }
   ],
   "source": [
    "\"apple, banana, mango, grapes, papaya, pineapple, watermelon\".split(\",\")"
   ]
  },
  {
   "cell_type": "code",
   "execution_count": 18,
   "id": "f68fea02",
   "metadata": {},
   "outputs": [
    {
     "data": {
      "text/plain": [
       "['apple', 'banana', 'mango', 'grapes', 'papaya', 'pineapple', 'watermelon']"
      ]
     },
     "execution_count": 18,
     "metadata": {},
     "output_type": "execute_result"
    }
   ],
   "source": [
    "\"apple,banana,mango,grapes,papaya,pineapple,watermelon\".split(\",\")"
   ]
  },
  {
   "cell_type": "code",
   "execution_count": 19,
   "id": "7eb95326",
   "metadata": {},
   "outputs": [
    {
     "ename": "AttributeError",
     "evalue": "'list' object has no attribute 'type'",
     "output_type": "error",
     "traceback": [
      "\u001b[0;31m---------------------------------------------------------------------------\u001b[0m",
      "\u001b[0;31mAttributeError\u001b[0m                            Traceback (most recent call last)",
      "\u001b[0;32m/tmp/ipykernel_3110/1322516653.py\u001b[0m in \u001b[0;36m<module>\u001b[0;34m\u001b[0m\n\u001b[0;32m----> 1\u001b[0;31m \u001b[0;34m\"apple,banana,mango,grapes,papaya,pineapple,watermelon\"\u001b[0m\u001b[0;34m.\u001b[0m\u001b[0msplit\u001b[0m\u001b[0;34m(\u001b[0m\u001b[0;34m\",\"\u001b[0m\u001b[0;34m)\u001b[0m\u001b[0;34m.\u001b[0m\u001b[0mtype\u001b[0m\u001b[0;34m(\u001b[0m\u001b[0;34m)\u001b[0m\u001b[0;34m\u001b[0m\u001b[0;34m\u001b[0m\u001b[0m\n\u001b[0m",
      "\u001b[0;31mAttributeError\u001b[0m: 'list' object has no attribute 'type'"
     ]
    }
   ],
   "source": [
    "\"apple,banana,mango,grapes,papaya,pineapple,watermelon\".split(\",\").type()"
   ]
  },
  {
   "cell_type": "code",
   "execution_count": 20,
   "id": "2d2c0062",
   "metadata": {},
   "outputs": [
    {
     "data": {
      "text/plain": [
       "list"
      ]
     },
     "execution_count": 20,
     "metadata": {},
     "output_type": "execute_result"
    }
   ],
   "source": [
    "type(\"apple,banana,mango,grapes,papaya,pineapple,watermelon\".split(\",\"))"
   ]
  },
  {
   "cell_type": "code",
   "execution_count": 21,
   "id": "631c5e78",
   "metadata": {},
   "outputs": [
    {
     "data": {
      "text/plain": [
       "str"
      ]
     },
     "execution_count": 21,
     "metadata": {},
     "output_type": "execute_result"
    }
   ],
   "source": [
    "type(\"hello\")"
   ]
  },
  {
   "cell_type": "code",
   "execution_count": 22,
   "id": "ed2e56b5",
   "metadata": {},
   "outputs": [
    {
     "data": {
      "text/plain": [
       "('apple', ',', 'banana,mango,grapes,papaya,pineapple,watermelon')"
      ]
     },
     "execution_count": 22,
     "metadata": {},
     "output_type": "execute_result"
    }
   ],
   "source": [
    "\"apple,banana,mango,grapes,papaya,pineapple,watermelon\".partition(\",\")"
   ]
  },
  {
   "cell_type": "code",
   "execution_count": 23,
   "id": "eb49c696",
   "metadata": {},
   "outputs": [
    {
     "data": {
      "text/plain": [
       "tuple"
      ]
     },
     "execution_count": 23,
     "metadata": {},
     "output_type": "execute_result"
    }
   ],
   "source": [
    "type(\"apple,banana,mango,grapes,papaya,pineapple,watermelon\".partition(\",\"))"
   ]
  },
  {
   "cell_type": "code",
   "execution_count": 24,
   "id": "0fa7e9d1",
   "metadata": {},
   "outputs": [
    {
     "data": {
      "text/plain": [
       "('hey ', '!', ' how are you !')"
      ]
     },
     "execution_count": 24,
     "metadata": {},
     "output_type": "execute_result"
    }
   ],
   "source": [
    "\"hey ! how are you !\".partition(\"!\")"
   ]
  },
  {
   "cell_type": "code",
   "execution_count": 27,
   "id": "dc20c60e",
   "metadata": {},
   "outputs": [
    {
     "data": {
      "text/plain": [
       "'denver!gills!kerry!lary'"
      ]
     },
     "execution_count": 27,
     "metadata": {},
     "output_type": "execute_result"
    }
   ],
   "source": [
    "\"!\".join([\"denver\",\"gills\",\"kerry\",\"lary\"])"
   ]
  },
  {
   "cell_type": "code",
   "execution_count": 29,
   "id": "0b354872",
   "metadata": {},
   "outputs": [
    {
     "data": {
      "text/plain": [
       "'deepika@palthode@gmail@com'"
      ]
     },
     "execution_count": 29,
     "metadata": {},
     "output_type": "execute_result"
    }
   ],
   "source": [
    "\"@\".join([\"deepika\",\"palthode\",\"gmail\",\"com\"])"
   ]
  },
  {
   "cell_type": "code",
   "execution_count": 30,
   "id": "720c8d5e",
   "metadata": {},
   "outputs": [
    {
     "data": {
      "text/plain": [
       "'deep$pavan$eesha$sid'"
      ]
     },
     "execution_count": 30,
     "metadata": {},
     "output_type": "execute_result"
    }
   ],
   "source": [
    "\"$\".join([\"deep\",\"pavan\",\"eesha\",\"sid\"])"
   ]
  },
  {
   "cell_type": "code",
   "execution_count": 7,
   "id": "8b806b69",
   "metadata": {},
   "outputs": [
    {
     "data": {
      "text/plain": [
       "False"
      ]
     },
     "execution_count": 7,
     "metadata": {},
     "output_type": "execute_result"
    }
   ],
   "source": [
    "\"deepika12.34564\".isalnum()"
   ]
  },
  {
   "cell_type": "code",
   "execution_count": 8,
   "id": "2ad73e00",
   "metadata": {},
   "outputs": [
    {
     "data": {
      "text/plain": [
       "False"
      ]
     },
     "execution_count": 8,
     "metadata": {},
     "output_type": "execute_result"
    }
   ],
   "source": [
    "'         deepika'.isspace()"
   ]
  },
  {
   "cell_type": "code",
   "execution_count": 9,
   "id": "64da7164",
   "metadata": {},
   "outputs": [
    {
     "data": {
      "text/plain": [
       "False"
      ]
     },
     "execution_count": 9,
     "metadata": {},
     "output_type": "execute_result"
    }
   ],
   "source": [
    "\"                like\".isspace()"
   ]
  },
  {
   "cell_type": "code",
   "execution_count": 10,
   "id": "d01c3c47",
   "metadata": {},
   "outputs": [
    {
     "data": {
      "text/plain": [
       "True"
      ]
     },
     "execution_count": 10,
     "metadata": {},
     "output_type": "execute_result"
    }
   ],
   "source": [
    "\"          \".isspace()"
   ]
  },
  {
   "cell_type": "code",
   "execution_count": 11,
   "id": "c0a9a9cc",
   "metadata": {},
   "outputs": [
    {
     "data": {
      "text/plain": [
       "True"
      ]
     },
     "execution_count": 11,
     "metadata": {},
     "output_type": "execute_result"
    }
   ],
   "source": [
    "\"deepika palthode\".endswith(\"palthode\")"
   ]
  },
  {
   "cell_type": "code",
   "execution_count": 16,
   "id": "32372689",
   "metadata": {},
   "outputs": [
    {
     "data": {
      "text/plain": [
       "False"
      ]
     },
     "execution_count": 16,
     "metadata": {},
     "output_type": "execute_result"
    }
   ],
   "source": [
    "\" P deepika\".startswith(\"P\")"
   ]
  },
  {
   "cell_type": "code",
   "execution_count": 25,
   "id": "ead3abbe",
   "metadata": {},
   "outputs": [
    {
     "data": {
      "text/plain": [
       "b'\\xff\\xfed\\x00e\\x00e\\x00p\\x00i\\x00k\\x00a\\x00'"
      ]
     },
     "execution_count": 25,
     "metadata": {},
     "output_type": "execute_result"
    }
   ],
   "source": [
    "\"deepika\".encode(\"utf16\")"
   ]
  },
  {
   "cell_type": "code",
   "execution_count": 27,
   "id": "f8ceac03",
   "metadata": {},
   "outputs": [
    {
     "data": {
      "text/plain": [
       "'deepika'"
      ]
     },
     "execution_count": 27,
     "metadata": {},
     "output_type": "execute_result"
    }
   ],
   "source": [
    "b'\\xff\\xfed\\x00e\\x00e\\x00p\\x00i\\x00k\\x00a\\x00'.decode(\"utf16\")"
   ]
  },
  {
   "cell_type": "code",
   "execution_count": 28,
   "id": "861859d0",
   "metadata": {},
   "outputs": [
    {
     "data": {
      "text/plain": [
       "'DEEPIKA palthode'"
      ]
     },
     "execution_count": 28,
     "metadata": {},
     "output_type": "execute_result"
    }
   ],
   "source": [
    "\"deepika PALTHODE\".swapcase()"
   ]
  },
  {
   "cell_type": "code",
   "execution_count": 32,
   "id": "56a12030",
   "metadata": {},
   "outputs": [
    {
     "name": "stdout",
     "output_type": "stream",
     "text": [
      "\n",
      "d\n",
      "ed\n",
      "eed\n",
      "peed\n",
      "ipeed\n",
      "kipeed\n"
     ]
    },
    {
     "data": {
      "text/plain": [
       "'akipeed'"
      ]
     },
     "execution_count": 32,
     "metadata": {},
     "output_type": "execute_result"
    }
   ],
   "source": [
    "def reverse(str):\n",
    "    reversestr=\"\"\n",
    "    for i in range(len(str)):\n",
    "        print(reversestr)\n",
    "        reversestr = str[i]+reversestr\n",
    "    return reversestr\n",
    "\n",
    "reverse(\"deepika\")"
   ]
  },
  {
   "cell_type": "code",
   "execution_count": 34,
   "id": "b6cb9cc6",
   "metadata": {},
   "outputs": [
    {
     "data": {
      "text/plain": [
       "'akipeed'"
      ]
     },
     "execution_count": 34,
     "metadata": {},
     "output_type": "execute_result"
    }
   ],
   "source": [
    "def reverse(str):\n",
    "    if str==\"\":\n",
    "        return \"\"\n",
    "    else:\n",
    "        return reverse(str[1:])+str[0]\n",
    "    \n",
    "\n",
    "reverse(\"deepika\")\n",
    "            \n"
   ]
  },
  {
   "cell_type": "code",
   "execution_count": 36,
   "id": "f1d036f3",
   "metadata": {},
   "outputs": [
    {
     "data": {
      "text/plain": [
       "'akipeed'"
      ]
     },
     "execution_count": 36,
     "metadata": {},
     "output_type": "execute_result"
    }
   ],
   "source": [
    "str = \"deepika\"\n",
    "reverse(str[0:])"
   ]
  },
  {
   "cell_type": "code",
   "execution_count": 37,
   "id": "6a183116",
   "metadata": {},
   "outputs": [
    {
     "data": {
      "text/plain": [
       "'edohtlap'"
      ]
     },
     "execution_count": 37,
     "metadata": {},
     "output_type": "execute_result"
    }
   ],
   "source": [
    "reverse(\"palthode\")"
   ]
  },
  {
   "cell_type": "code",
   "execution_count": null,
   "id": "060de0e7",
   "metadata": {},
   "outputs": [],
   "source": []
  }
 ],
 "metadata": {
  "kernelspec": {
   "display_name": "Python 3 (ipykernel)",
   "language": "python",
   "name": "python3"
  },
  "language_info": {
   "codemirror_mode": {
    "name": "ipython",
    "version": 3
   },
   "file_extension": ".py",
   "mimetype": "text/x-python",
   "name": "python",
   "nbconvert_exporter": "python",
   "pygments_lexer": "ipython3",
   "version": "3.9.5"
  }
 },
 "nbformat": 4,
 "nbformat_minor": 5
}
