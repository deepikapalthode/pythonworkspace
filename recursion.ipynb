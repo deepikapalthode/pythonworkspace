{
 "cells": [
  {
   "cell_type": "code",
   "execution_count": 3,
   "id": "f6956af9",
   "metadata": {},
   "outputs": [
    {
     "data": {
      "text/plain": [
       "'dcba'"
      ]
     },
     "execution_count": 3,
     "metadata": {},
     "output_type": "execute_result"
    }
   ],
   "source": [
    "\"\".join(reversed(\"abcd\"))"
   ]
  },
  {
   "cell_type": "code",
   "execution_count": 5,
   "id": "048324c8",
   "metadata": {},
   "outputs": [],
   "source": [
    "def reverse_string(string):\n",
    "    if len(string) == 0:\n",
    "        return string\n",
    "    else:\n",
    "        return reverse_string(string[1:]) + string[0]\n",
    "\n"
   ]
  },
  {
   "cell_type": "code",
   "execution_count": 8,
   "id": "fbb8449a",
   "metadata": {},
   "outputs": [
    {
     "name": "stdout",
     "output_type": "stream",
     "text": [
      "5\n",
      "5\n"
     ]
    },
    {
     "data": {
      "text/plain": [
       "'palindrome'"
      ]
     },
     "execution_count": 8,
     "metadata": {},
     "output_type": "execute_result"
    }
   ],
   "source": [
    "def palindrome(str):\n",
    "    print(len(reverse_string(str)))\n",
    "    print(len(str))\n",
    "    if reverse_string(str)==str:\n",
    "        return \"palindrome\"\n",
    "    else:\n",
    "        return \"not a palindrome\"\n",
    "\n",
    "    \n",
    "palindrome(\"madam\")"
   ]
  },
  {
   "cell_type": "code",
   "execution_count": 11,
   "id": "270af394",
   "metadata": {},
   "outputs": [
    {
     "name": "stdout",
     "output_type": "stream",
     "text": [
      "my name is deepika palthode\n"
     ]
    }
   ],
   "source": [
    "lastname=\"palthode\"\n",
    "firstname = \"deepika\"\n",
    "print(f\"my name is {firstname} {lastname}\")"
   ]
  },
  {
   "cell_type": "code",
   "execution_count": 12,
   "id": "48dad381",
   "metadata": {},
   "outputs": [
    {
     "name": "stdout",
     "output_type": "stream",
     "text": [
      "i love python f-strings\n"
     ]
    }
   ],
   "source": [
    "str=\"python f-strings\"\n",
    "print(f\"i love {str}\")"
   ]
  },
  {
   "cell_type": "code",
   "execution_count": 13,
   "id": "cfbb1e70",
   "metadata": {},
   "outputs": [
    {
     "name": "stdout",
     "output_type": "stream",
     "text": [
      "i know that f-strings embed expressions in string literals\n"
     ]
    }
   ],
   "source": [
    "s=\"f-strings embed expressions in string literals\"\n",
    "print(f\"i know that {s}\")"
   ]
  },
  {
   "cell_type": "code",
   "execution_count": 14,
   "id": "2ab24c7f",
   "metadata": {},
   "outputs": [
    {
     "name": "stdout",
     "output_type": "stream",
     "text": [
      "i love the song payo ji main ne...\n"
     ]
    }
   ],
   "source": [
    "song = \"payo ji main ne...\"\n",
    "print(f\"i love the song {song}\")"
   ]
  },
  {
   "cell_type": "code",
   "execution_count": 29,
   "id": "10d8b777",
   "metadata": {},
   "outputs": [
    {
     "name": "stdin",
     "output_type": "stream",
     "text": [
      "enter number:  3\n"
     ]
    },
    {
     "name": "stdout",
     "output_type": "stream",
     "text": [
      "factorial of  3 is : 6\n"
     ]
    }
   ],
   "source": [
    "def factorial(n):\n",
    "    fact =1\n",
    "    assert n>=0\n",
    "    for i in range(1,n+1):\n",
    "        fact = fact*i        \n",
    "    return fact\n",
    "    \n",
    "def main():\n",
    "    n = int(input(\"enter number: \"))\n",
    "    res = factorial(n)\n",
    "    print(\"factorial of \",n, \"is :\",res)\n",
    "    \n",
    "if __name__==\"__main__\":\n",
    "    main()"
   ]
  },
  {
   "cell_type": "code",
   "execution_count": 30,
   "id": "4bf26e2c",
   "metadata": {},
   "outputs": [
    {
     "name": "stdin",
     "output_type": "stream",
     "text": [
      "enter number:  3\n"
     ]
    },
    {
     "name": "stdout",
     "output_type": "stream",
     "text": [
      "factorial of  3 is 6\n"
     ]
    }
   ],
   "source": [
    "def recursive_factorial(n):\n",
    "    if n == 0 or n ==1:\n",
    "        return 1\n",
    "    else:\n",
    "        return n*recursive_factorial(n-1)\n",
    "def main():\n",
    "    n = int(input(\"enter number: \"))\n",
    "    res = recursive_factorial(n)\n",
    "    print(\"factorial of \",n, \"is\", res)\n",
    "    \n",
    "if __name__==\"__main__\":\n",
    "    main()"
   ]
  },
  {
   "cell_type": "code",
   "execution_count": 9,
   "id": "4b4d2e13",
   "metadata": {},
   "outputs": [
    {
     "name": "stdout",
     "output_type": "stream",
     "text": [
      "\n"
     ]
    }
   ],
   "source": [
    "s=\"hello\"\n",
    "print(s[5:0])"
   ]
  },
  {
   "cell_type": "code",
   "execution_count": 5,
   "id": "60c616a0",
   "metadata": {},
   "outputs": [
    {
     "data": {
      "text/plain": [
       "[9, 7, 5]"
      ]
     },
     "execution_count": 5,
     "metadata": {},
     "output_type": "execute_result"
    }
   ],
   "source": [
    "a = [1,2,3,4,5,6,7,8,9]\n",
    "a[:3:-2]"
   ]
  },
  {
   "cell_type": "code",
   "execution_count": 10,
   "id": "251a520e",
   "metadata": {},
   "outputs": [
    {
     "name": "stdout",
     "output_type": "stream",
     "text": [
      "\n"
     ]
    }
   ],
   "source": [
    "s=\"hello\"\n",
    "print(s[5:0])"
   ]
  },
  {
   "cell_type": "code",
   "execution_count": 31,
   "id": "080fc218",
   "metadata": {},
   "outputs": [
    {
     "name": "stdout",
     "output_type": "stream",
     "text": [
      "[]\n"
     ]
    }
   ],
   "source": [
    "i = [0,  1,  2,  3,  4,  5,  6,  7,  8,  9]\n",
    "   #[  0,  1,  2,  3,  4,  5,  6,  7,  8,  9]\n",
    "   #[-10, -9, -8, -7, -6, -5, -4, -3, -2, -1]\n",
    "s = i[2:5:-1]\n",
    "print(s)\n"
   ]
  },
  {
   "cell_type": "code",
   "execution_count": 28,
   "id": "5c26bd6f",
   "metadata": {},
   "outputs": [
    {
     "data": {
      "text/plain": [
       "[]"
      ]
     },
     "execution_count": 28,
     "metadata": {},
     "output_type": "execute_result"
    }
   ],
   "source": [
    "a =[1,2,3,4,5,6]\n",
    "b = a[5:1:1]\n",
    "b"
   ]
  },
  {
   "cell_type": "code",
   "execution_count": 60,
   "id": "8ba6e8b9",
   "metadata": {},
   "outputs": [
    {
     "data": {
      "text/plain": [
       "'DLRO'"
      ]
     },
     "execution_count": 60,
     "metadata": {},
     "output_type": "execute_result"
    }
   ],
   "source": [
    "x=\"HELLOWORLD\"\n",
    "x[20:5:-1]"
   ]
  },
  {
   "cell_type": "code",
   "execution_count": 55,
   "id": "9d252ecc",
   "metadata": {},
   "outputs": [
    {
     "data": {
      "text/plain": [
       "''"
      ]
     },
     "execution_count": 55,
     "metadata": {},
     "output_type": "execute_result"
    }
   ],
   "source": [
    "x[:-15]"
   ]
  },
  {
   "cell_type": "code",
   "execution_count": null,
   "id": "acc73221",
   "metadata": {},
   "outputs": [],
   "source": []
  }
 ],
 "metadata": {
  "kernelspec": {
   "display_name": "Python 3 (ipykernel)",
   "language": "python",
   "name": "python3"
  },
  "language_info": {
   "codemirror_mode": {
    "name": "ipython",
    "version": 3
   },
   "file_extension": ".py",
   "mimetype": "text/x-python",
   "name": "python",
   "nbconvert_exporter": "python",
   "pygments_lexer": "ipython3",
   "version": "3.9.5"
  }
 },
 "nbformat": 4,
 "nbformat_minor": 5
}
